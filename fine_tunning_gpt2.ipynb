{
  "nbformat": 4,
  "nbformat_minor": 0,
  "metadata": {
    "colab": {
      "provenance": [],
      "collapsed_sections": [
        "7lsVGXn0XGfl"
      ],
      "include_colab_link": true
    },
    "kernelspec": {
      "name": "python3",
      "display_name": "Python 3"
    },
    "language_info": {
      "name": "python"
    },
    "accelerator": "GPU"
  },
  "cells": [
    {
      "cell_type": "markdown",
      "metadata": {
        "id": "view-in-github",
        "colab_type": "text"
      },
      "source": [
        "<a href=\"https://colab.research.google.com/github/arvindd22/GenAI-Creative-Text-and-Image-Generation/blob/main/fine_tunning_gpt2.ipynb\" target=\"_parent\"><img src=\"https://colab.research.google.com/assets/colab-badge.svg\" alt=\"Open In Colab\"/></a>"
      ]
    },
    {
      "cell_type": "markdown",
      "metadata": {
        "id": "FfiihfNIBF8b"
      },
      "source": [
        "### Installing Dependencies and Mounting"
      ]
    },
    {
      "cell_type": "code",
      "metadata": {
        "id": "BEi2Peoy9uf1"
      },
      "source": [
        "!pip install transformers"
      ],
      "execution_count": 1,
      "outputs": []
    },
    {
      "cell_type": "code",
      "metadata": {
        "colab": {
          "base_uri": "https://localhost:8080/"
        },
        "id": "OaTCo2NI_kcj",
        "outputId": "05e9c55f-1652-4990-d668-4323b6f86add"
      },
      "source": [
        "# Mount Google Drive\n",
        "from google.colab import drive # import drive from google colab\n",
        "\n",
        "ROOT = \"/content/drive\"\n",
        "drive.mount(ROOT, force_remount=True)"
      ],
      "execution_count": 2,
      "outputs": [
        {
          "output_type": "stream",
          "name": "stdout",
          "text": [
            "Mounted at /content/drive\n"
          ]
        }
      ]
    },
    {
      "cell_type": "markdown",
      "metadata": {
        "id": "TyQvZOJ_sEi0"
      },
      "source": [
        "### Imports"
      ]
    },
    {
      "cell_type": "code",
      "metadata": {
        "id": "41cBCUZj950o"
      },
      "source": [
        "import pandas as pd\n",
        "import numpy as np\n",
        "import seaborn as sns\n",
        "import matplotlib.pyplot as plt\n",
        "\n",
        "\n",
        "import random\n",
        "import json\n",
        "import time\n",
        "import datetime\n",
        "import os\n",
        "\n",
        "from transformers import GPT2Tokenizer, GPT2LMHeadModel, GPT2Config, AdamW, get_linear_schedule_with_warmup"
      ],
      "execution_count": 17,
      "outputs": []
    },
    {
      "cell_type": "code",
      "metadata": {
        "id": "qUJ9CFeHtc6L"
      },
      "source": [
        "import torch\n",
        "torch.manual_seed(64)\n",
        "from torch.utils.data import Dataset, random_split, DataLoader, RandomSampler, SequentialSampler"
      ],
      "execution_count": 5,
      "outputs": []
    },
    {
      "cell_type": "code",
      "metadata": {
        "colab": {
          "base_uri": "https://localhost:8080/"
        },
        "id": "YkSRScH8uQaa",
        "outputId": "c53b8136-3e94-4317-c338-012c30d7798c"
      },
      "source": [
        "!pip show torch"
      ],
      "execution_count": 6,
      "outputs": [
        {
          "output_type": "stream",
          "name": "stdout",
          "text": [
            "Name: torch\n",
            "Version: 2.5.1+cu124\n",
            "Summary: Tensors and Dynamic neural networks in Python with strong GPU acceleration\n",
            "Home-page: https://pytorch.org/\n",
            "Author: PyTorch Team\n",
            "Author-email: packages@pytorch.org\n",
            "License: BSD-3-Clause\n",
            "Location: /usr/local/lib/python3.11/dist-packages\n",
            "Requires: filelock, fsspec, jinja2, networkx, nvidia-cublas-cu12, nvidia-cuda-cupti-cu12, nvidia-cuda-nvrtc-cu12, nvidia-cuda-runtime-cu12, nvidia-cudnn-cu12, nvidia-cufft-cu12, nvidia-curand-cu12, nvidia-cusolver-cu12, nvidia-cusparse-cu12, nvidia-nccl-cu12, nvidia-nvjitlink-cu12, nvidia-nvtx-cu12, sympy, triton, typing-extensions\n",
            "Required-by: accelerate, fastai, peft, sentence-transformers, timm, torchaudio, torchvision\n"
          ]
        }
      ]
    },
    {
      "cell_type": "markdown",
      "metadata": {
        "id": "-VbBdueAJXP1"
      },
      "source": [
        "### Setting Device"
      ]
    },
    {
      "cell_type": "code",
      "metadata": {
        "colab": {
          "base_uri": "https://localhost:8080/"
        },
        "id": "k8VlkoWwq7gG",
        "outputId": "aab93d9e-f043-4698-831f-78b4005f866a"
      },
      "source": [
        "%cd /content/drive/MyDrive/AutoCompose/"
      ],
      "execution_count": 9,
      "outputs": [
        {
          "output_type": "stream",
          "name": "stdout",
          "text": [
            "/content/drive/MyDrive/AutoCompose\n"
          ]
        }
      ]
    },
    {
      "cell_type": "code",
      "metadata": {
        "colab": {
          "base_uri": "https://localhost:8080/"
        },
        "id": "gyI5Y89UP4TK",
        "outputId": "e1660630-70f4-444d-df30-d3824f5d4ed4"
      },
      "source": [
        "!nvidia-smi"
      ],
      "execution_count": 10,
      "outputs": [
        {
          "output_type": "stream",
          "name": "stdout",
          "text": [
            "Thu Jan 30 19:38:08 2025       \n",
            "+-----------------------------------------------------------------------------------------+\n",
            "| NVIDIA-SMI 550.54.15              Driver Version: 550.54.15      CUDA Version: 12.4     |\n",
            "|-----------------------------------------+------------------------+----------------------+\n",
            "| GPU  Name                 Persistence-M | Bus-Id          Disp.A | Volatile Uncorr. ECC |\n",
            "| Fan  Temp   Perf          Pwr:Usage/Cap |           Memory-Usage | GPU-Util  Compute M. |\n",
            "|                                         |                        |               MIG M. |\n",
            "|=========================================+========================+======================|\n",
            "|   0  Tesla T4                       Off |   00000000:00:04.0 Off |                    0 |\n",
            "| N/A   39C    P8              9W /   70W |       0MiB /  15360MiB |      0%      Default |\n",
            "|                                         |                        |                  N/A |\n",
            "+-----------------------------------------+------------------------+----------------------+\n",
            "                                                                                         \n",
            "+-----------------------------------------------------------------------------------------+\n",
            "| Processes:                                                                              |\n",
            "|  GPU   GI   CI        PID   Type   Process name                              GPU Memory |\n",
            "|        ID   ID                                                               Usage      |\n",
            "|=========================================================================================|\n",
            "|  No running processes found                                                             |\n",
            "+-----------------------------------------------------------------------------------------+\n"
          ]
        }
      ]
    },
    {
      "cell_type": "code",
      "metadata": {
        "colab": {
          "base_uri": "https://localhost:8080/"
        },
        "id": "v8l-6AKKqXG0",
        "outputId": "e47d2e45-2a42-471a-a958-ad6ce357fc48"
      },
      "source": [
        "device = torch.device(\"cuda:0\" if torch.cuda.is_available() else \"cpu\")\n",
        "device"
      ],
      "execution_count": 11,
      "outputs": [
        {
          "output_type": "execute_result",
          "data": {
            "text/plain": [
              "device(type='cuda', index=0)"
            ]
          },
          "metadata": {},
          "execution_count": 11
        }
      ]
    },
    {
      "cell_type": "markdown",
      "metadata": {
        "id": "IbhYLfwbmip_"
      },
      "source": [
        "# Data Preparation"
      ]
    },
    {
      "cell_type": "markdown",
      "metadata": {
        "id": "CvnxGglJsQcP"
      },
      "source": [
        "### Data Collection"
      ]
    },
    {
      "cell_type": "code",
      "metadata": {
        "colab": {
          "base_uri": "https://localhost:8080/"
        },
        "id": "OzW3aMVomxNN",
        "outputId": "7a09f731-4bea-4bd7-f9cb-c8fad48921b8"
      },
      "source": [
        "with open(\"data/joy.json\", \"r\") as f:\n",
        "  data = json.load(f)\n",
        "data = [poem for poem in data if len(poem[\"poem\"].split()) < 100]\n",
        "print(len(data))\n",
        "data[:5]"
      ],
      "execution_count": 12,
      "outputs": [
        {
          "output_type": "stream",
          "name": "stdout",
          "text": [
            "32444\n"
          ]
        },
        {
          "output_type": "execute_result",
          "data": {
            "text/plain": [
              "[{'poem': 'And he wooed her with caresses,\\nWooed her with his smile of sunshine,\\nWith his flattering words he wooed her,\\nWith his sighing and his singing,\\nGentlest whispers in the branches,\\nSoftest music, sweetest odors,\\nTill he drew her to his bosom,\\nFolded in his robes of crimson,\\nTill into a star he changed her,\\nTrembling still upon his bosom;\\nAnd forever in the heavens\\nThey are seen together walking,\\nBut the fierce Kabibonokka\\nHad his dwelling among icebergs,\\nIn the everlasting snow-drifts,\\nIn the kingdom of Wabasso,\\nIn the land of the White Rabbit.',\n",
              "  'id': 30},\n",
              " {'poem': 'Once, as he was gazing northward,\\nFar away upon a prairie\\nHe beheld a maiden standing,\\nSaw a tall and slender maiden\\nAll alone upon a prairie;\\nBrightest green were all her garments,\\nAnd her hair was like the sunshine.',\n",
              "  'id': 43},\n",
              " {'poem': \"Till one morning, looking northward,\\nHe beheld her yellow tresses\\nChanged and covered o'er with whiteness,\\nCovered as with whitest snow-flakes.\",\n",
              "  'id': 46},\n",
              " {'poem': '\"See! a star falls!\" said the people;\\n\"From the sky a star is falling!\"\\nThere among the ferns and mosses,\\nThere among the prairie lilies,\\nOn the Muskoday, the meadow,\\nIn the moonlight and the starlight,\\nFair Nokomis bore a daughter.',\n",
              "  'id': 51},\n",
              " {'poem': 'And the daughter of Nokomis\\nGrew up like the prairie lilies,\\nGrew a tall and slender maiden,\\nWith the beauty of the moonlight,\\nWith the beauty of the starlight.',\n",
              "  'id': 52}]"
            ]
          },
          "metadata": {},
          "execution_count": 12
        }
      ]
    },
    {
      "cell_type": "markdown",
      "metadata": {
        "id": "-XlWzYFUtXWq"
      },
      "source": [
        "### Data Model"
      ]
    },
    {
      "cell_type": "code",
      "metadata": {
        "id": "Do1UwKtus3t9"
      },
      "source": [
        "class PoemDataset(Dataset):\n",
        "  def __init__(self, poems, tokenizer, max_length=768, gpt2_type=\"gpt2\"):\n",
        "    self.tokenizer = tokenizer\n",
        "    self.input_ids = []\n",
        "    self.attn_masks = []\n",
        "\n",
        "    for poem in poems:\n",
        "\n",
        "      encodings_dict = tokenizer(\"<|startoftext|>\"+poem[\"poem\"]+\"<|endoftext|>\",\n",
        "                                 truncation=True,\n",
        "                                 max_length=max_length,\n",
        "                                 padding=\"max_length\")\n",
        "\n",
        "      self.input_ids.append(torch.tensor(encodings_dict[\"input_ids\"]))\n",
        "      self.attn_masks.append(torch.tensor(encodings_dict[\"attention_mask\"]))\n",
        "\n",
        "  def __len__(self):\n",
        "    return len(self.input_ids)\n",
        "\n",
        "  def __getitem__(self, idx):\n",
        "    return self.input_ids[idx], self.attn_masks[idx]"
      ],
      "execution_count": 13,
      "outputs": []
    },
    {
      "cell_type": "code",
      "metadata": {
        "id": "gvird8pCvI_z"
      },
      "source": [
        "# Loading GPT2 Tokenizer\n",
        "tokenizer = GPT2Tokenizer.from_pretrained('gpt2',\n",
        "                                          bos_token='<|startoftext|>',\n",
        "                                          eos_token='<|endoftext|>',\n",
        "                                          pad_token='<|pad|>')"
      ],
      "execution_count": 18,
      "outputs": []
    },
    {
      "cell_type": "markdown",
      "metadata": {
        "id": "pmGoTPV2uQP2"
      },
      "source": [
        "### Rough"
      ]
    },
    {
      "cell_type": "code",
      "metadata": {
        "colab": {
          "base_uri": "https://localhost:8080/"
        },
        "id": "scGeymf9AVgt",
        "outputId": "b284e750-9495-49f0-e359-676a5c90e307"
      },
      "source": [
        "print(tokenizer.encode(\"<|startoftext|> Hello World <|endoftext|>\", padding=\"max_length\", max_length=10))\n",
        "print(len(tokenizer))"
      ],
      "execution_count": 19,
      "outputs": [
        {
          "output_type": "stream",
          "name": "stdout",
          "text": [
            "[50257, 18435, 2159, 220, 50256, 50258, 50258, 50258, 50258, 50258]\n",
            "50259\n"
          ]
        }
      ]
    },
    {
      "cell_type": "code",
      "metadata": {
        "colab": {
          "base_uri": "https://localhost:8080/"
        },
        "id": "uzOCB-P4uyLO",
        "outputId": "60ac5158-5899-4f11-e539-1706e505901e"
      },
      "source": [
        "# Finding length of maximum token in dataset\n",
        "max_length = max([len(tokenizer.encode(poem[\"poem\"])) for poem in data])\n",
        "print(max_length)\n",
        "max_length = 100"
      ],
      "execution_count": 20,
      "outputs": [
        {
          "output_type": "stream",
          "name": "stdout",
          "text": [
            "345\n"
          ]
        }
      ]
    },
    {
      "cell_type": "code",
      "metadata": {
        "id": "wVUlcSREp1qb"
      },
      "source": [
        "x = [len(tokenizer.encode(poem[\"poem\"])) for poem in data if len(tokenizer.encode(poem[\"poem\"])) < 100]"
      ],
      "execution_count": 21,
      "outputs": []
    },
    {
      "cell_type": "code",
      "metadata": {
        "id": "hnZmG6esrr6U"
      },
      "source": [
        "y = [len(tokenizer.encode(poem[\"poem\"])) - len(poem[\"poem\"].split()) for poem in data]"
      ],
      "execution_count": 22,
      "outputs": []
    },
    {
      "cell_type": "code",
      "metadata": {
        "id": "MSzXVWS1tpqj",
        "colab": {
          "base_uri": "https://localhost:8080/"
        },
        "outputId": "5b377088-5e1f-42ed-e437-f991ee64eb0f"
      },
      "source": [
        "print(sum(y)/len(y))"
      ],
      "execution_count": 23,
      "outputs": [
        {
          "output_type": "stream",
          "name": "stdout",
          "text": [
            "22.750493157440513\n"
          ]
        }
      ]
    },
    {
      "cell_type": "code",
      "metadata": {
        "colab": {
          "base_uri": "https://localhost:8080/",
          "height": 617
        },
        "id": "KXTIYKt-ng5Q",
        "outputId": "8230ad77-c70c-481f-a9f9-1b785c3f7669"
      },
      "source": [
        "print(max(x), len(x))\n",
        "plt.hist(x, bins = 5)\n",
        "plt.show"
      ],
      "execution_count": 24,
      "outputs": [
        {
          "output_type": "stream",
          "name": "stdout",
          "text": [
            "99 26907\n"
          ]
        },
        {
          "output_type": "execute_result",
          "data": {
            "text/plain": [
              "<function matplotlib.pyplot.show(close=None, block=None)>"
            ],
            "text/html": [
              "<div style=\"max-width:800px; border: 1px solid var(--colab-border-color);\"><style>\n",
              "      pre.function-repr-contents {\n",
              "        overflow-x: auto;\n",
              "        padding: 8px 12px;\n",
              "        max-height: 500px;\n",
              "      }\n",
              "\n",
              "      pre.function-repr-contents.function-repr-contents-collapsed {\n",
              "        cursor: pointer;\n",
              "        max-height: 100px;\n",
              "      }\n",
              "    </style>\n",
              "    <pre style=\"white-space: initial; background:\n",
              "         var(--colab-secondary-surface-color); padding: 8px 12px;\n",
              "         border-bottom: 1px solid var(--colab-border-color);\"><b>matplotlib.pyplot.show</b><br/>def show(*args, **kwargs) -&gt; None</pre><pre class=\"function-repr-contents function-repr-contents-collapsed\" style=\"\"><a class=\"filepath\" style=\"display:none\" href=\"#\">/usr/local/lib/python3.11/dist-packages/matplotlib/pyplot.py</a>Display all open figures.\n",
              "\n",
              "Parameters\n",
              "----------\n",
              "block : bool, optional\n",
              "    Whether to wait for all figures to be closed before returning.\n",
              "\n",
              "    If `True` block and run the GUI main loop until all figure windows\n",
              "    are closed.\n",
              "\n",
              "    If `False` ensure that all figure windows are displayed and return\n",
              "    immediately.  In this case, you are responsible for ensuring\n",
              "    that the event loop is running to have responsive figures.\n",
              "\n",
              "    Defaults to True in non-interactive mode and to False in interactive\n",
              "    mode (see `.pyplot.isinteractive`).\n",
              "\n",
              "See Also\n",
              "--------\n",
              "ion : Enable interactive mode, which shows / updates the figure after\n",
              "      every plotting command, so that calling ``show()`` is not necessary.\n",
              "ioff : Disable interactive mode.\n",
              "savefig : Save the figure to an image file instead of showing it on screen.\n",
              "\n",
              "Notes\n",
              "-----\n",
              "**Saving figures to file and showing a window at the same time**\n",
              "\n",
              "If you want an image file as well as a user interface window, use\n",
              "`.pyplot.savefig` before `.pyplot.show`. At the end of (a blocking)\n",
              "``show()`` the figure is closed and thus unregistered from pyplot. Calling\n",
              "`.pyplot.savefig` afterwards would save a new and thus empty figure. This\n",
              "limitation of command order does not apply if the show is non-blocking or\n",
              "if you keep a reference to the figure and use `.Figure.savefig`.\n",
              "\n",
              "**Auto-show in jupyter notebooks**\n",
              "\n",
              "The jupyter backends (activated via ``%matplotlib inline``,\n",
              "``%matplotlib notebook``, or ``%matplotlib widget``), call ``show()`` at\n",
              "the end of every cell by default. Thus, you usually don&#x27;t have to call it\n",
              "explicitly there.</pre>\n",
              "      <script>\n",
              "      if (google.colab.kernel.accessAllowed && google.colab.files && google.colab.files.view) {\n",
              "        for (const element of document.querySelectorAll('.filepath')) {\n",
              "          element.style.display = 'block'\n",
              "          element.onclick = (event) => {\n",
              "            event.preventDefault();\n",
              "            event.stopPropagation();\n",
              "            google.colab.files.view(element.textContent, 569);\n",
              "          };\n",
              "        }\n",
              "      }\n",
              "      for (const element of document.querySelectorAll('.function-repr-contents')) {\n",
              "        element.onclick = (event) => {\n",
              "          event.preventDefault();\n",
              "          event.stopPropagation();\n",
              "          element.classList.toggle('function-repr-contents-collapsed');\n",
              "        };\n",
              "      }\n",
              "      </script>\n",
              "      </div>"
            ]
          },
          "metadata": {},
          "execution_count": 24
        },
        {
          "output_type": "display_data",
          "data": {
            "text/plain": [
              "<Figure size 640x480 with 1 Axes>"
            ],
            "image/png": "[encoded data removed]"
          },
          "metadata": {}
        }
      ]
    },
    {
      "cell_type": "markdown",
      "metadata": {
        "id": "q1glPT5f98ML"
      },
      "source": [
        "### Dataset Creation"
      ]
    },
    {
      "cell_type": "code",
      "metadata": {
        "id": "cs8YCFwFAIUf"
      },
      "source": [
        "batch_size = 8\n",
        "max_length = 100"
      ],
      "execution_count": 25,
      "outputs": []
    },
    {
      "cell_type": "code",
      "metadata": {
        "colab": {
          "base_uri": "https://localhost:8080/"
        },
        "id": "KrcHD1i09_2i",
        "outputId": "35543caa-0101-4149-e2b3-e5f5ef19328f"
      },
      "source": [
        "dataset = PoemDataset(data, tokenizer, max_length=max_length)\n",
        "\n",
        "# Split data into train and validation sets\n",
        "train_size = int(0.9*len(dataset))\n",
        "val_size = len(dataset) - train_size\n",
        "\n",
        "train_dataset, val_dataset = random_split(dataset, [train_size, val_size])\n",
        "print(\"Number of samples for training =\", train_size)\n",
        "print(\"Number of samples for validation =\", val_size)"
      ],
      "execution_count": 26,
      "outputs": [
        {
          "output_type": "stream",
          "name": "stdout",
          "text": [
            "Number of samples for training = 29199\n",
            "Number of samples for validation = 3245\n"
          ]
        }
      ]
    },
    {
      "cell_type": "code",
      "metadata": {
        "colab": {
          "base_uri": "https://localhost:8080/"
        },
        "id": "_47UhjkG--H9",
        "outputId": "7760fa84-91d1-49e6-ce95-a5fa450d9634"
      },
      "source": [
        "train_dataset[0]"
      ],
      "execution_count": null,
      "outputs": [
        {
          "output_type": "execute_result",
          "data": {
            "text/plain": [
              "(tensor([50257,  5122, 14919,    11,   262,  5156,   326,   537,  2150,   284,\n",
              "         11906, 10329,    11,   198,  1870,   778, 43535,  1088, 17903,   287,\n",
              "         11212,   500,   308,  7197,    11,   198, 19242,  7334,   510,    11,\n",
              "           673,   338,  6405,   290,   734, 24924,  3383,  6510,   198, 11980,\n",
              "         33091,   287,   607, 37284,   296,   257, 29420,   286,  8716,    82,\n",
              "            13, 50256, 50258, 50258, 50258, 50258, 50258, 50258, 50258, 50258,\n",
              "         50258, 50258, 50258, 50258, 50258, 50258, 50258, 50258, 50258, 50258,\n",
              "         50258, 50258, 50258, 50258, 50258, 50258, 50258, 50258, 50258, 50258,\n",
              "         50258, 50258, 50258, 50258, 50258, 50258, 50258, 50258, 50258, 50258,\n",
              "         50258, 50258, 50258, 50258, 50258, 50258, 50258, 50258, 50258, 50258]),\n",
              " tensor([1, 1, 1, 1, 1, 1, 1, 1, 1, 1, 1, 1, 1, 1, 1, 1, 1, 1, 1, 1, 1, 1, 1, 1,\n",
              "         1, 1, 1, 1, 1, 1, 1, 1, 1, 1, 1, 1, 1, 1, 1, 1, 1, 1, 1, 1, 1, 1, 1, 1,\n",
              "         1, 1, 1, 1, 0, 0, 0, 0, 0, 0, 0, 0, 0, 0, 0, 0, 0, 0, 0, 0, 0, 0, 0, 0,\n",
              "         0, 0, 0, 0, 0, 0, 0, 0, 0, 0, 0, 0, 0, 0, 0, 0, 0, 0, 0, 0, 0, 0, 0, 0,\n",
              "         0, 0, 0, 0]))"
            ]
          },
          "metadata": {
            "tags": []
          },
          "execution_count": 12
        }
      ]
    },
    {
      "cell_type": "code",
      "metadata": {
        "id": "dPSE22SY_aCG"
      },
      "source": [
        "train_dataloader = DataLoader(train_dataset,\n",
        "                              sampler=RandomSampler(train_dataset),\n",
        "                              batch_size=batch_size)\n",
        "\n",
        "val_dataloader = DataLoader(val_dataset,\n",
        "                            sampler=SequentialSampler(val_dataset),\n",
        "                            batch_size=batch_size)"
      ],
      "execution_count": null,
      "outputs": []
    },
    {
      "cell_type": "markdown",
      "metadata": {
        "id": "S6tbchbKANU0"
      },
      "source": [
        "# Finetune GPT2 Language Model"
      ]
    },
    {
      "cell_type": "markdown",
      "metadata": {
        "id": "bZqJkZYBoQ6G"
      },
      "source": [
        "### Importing Pre-Trained GPT2 Model"
      ]
    },
    {
      "cell_type": "code",
      "metadata": {
        "id": "cJL8_nhgARfD"
      },
      "source": [
        "# Load model configuration\n",
        "config = GPT2Config.from_pretrained(\"gpt2\")\n",
        "\n",
        "# Create model instance and set embedding length\n",
        "model = GPT2LMHeadModel.from_pretrained(\"gpt2\", config=config)\n",
        "model.resize_token_embeddings(len(tokenizer))\n",
        "\n",
        "# Running the model on GPU\n",
        "model = model.to(device)"
      ],
      "execution_count": null,
      "outputs": []
    },
    {
      "cell_type": "code",
      "metadata": {
        "id": "AxHN4tRRrWqH"
      },
      "source": [
        "# <<< Optional >>>\n",
        "# Setting seeds to enable reproducible runs\n",
        "seed_val = 42\n",
        "\n",
        "random.seed(seed_val)\n",
        "np.random.seed(seed_val)\n",
        "torch.manual_seed(seed_val)\n",
        "torch.cuda.manual_seed_all(seed_val)"
      ],
      "execution_count": null,
      "outputs": []
    },
    {
      "cell_type": "markdown",
      "metadata": {
        "id": "LgAQvZvErk-x"
      },
      "source": [
        "### Scheduling Optimizer"
      ]
    },
    {
      "cell_type": "code",
      "metadata": {
        "id": "UFyrycW3rniw"
      },
      "source": [
        "epochs = 4\n",
        "warmup_steps = 1e2\n",
        "sample_every = 100"
      ],
      "execution_count": null,
      "outputs": []
    },
    {
      "cell_type": "code",
      "metadata": {
        "colab": {
          "base_uri": "https://localhost:8080/"
        },
        "id": "6dS1DJr1z2Zj",
        "outputId": "852d28ae-381d-45f7-cd8f-47d0b9cd9e69"
      },
      "source": [
        "print(len(train_dataloader))\n",
        "print(len(train_dataset))"
      ],
      "execution_count": null,
      "outputs": [
        {
          "output_type": "stream",
          "text": [
            "3650\n",
            "29199\n"
          ],
          "name": "stdout"
        }
      ]
    },
    {
      "cell_type": "code",
      "metadata": {
        "id": "bVRNe3g4y627"
      },
      "source": [
        "# Using AdamW optimizer with default parameters\n",
        "optimizer = AdamW(model.parameters(), lr=5e-4, eps=1e-8)\n",
        "\n",
        "# Toatl training steps is the number of data points times the number of epochs\n",
        "total_training_steps = len(train_dataloader)*epochs\n",
        "\n",
        "# Setting a variable learning rate using scheduler\n",
        "scheduler = get_linear_schedule_with_warmup(optimizer,\n",
        "                                            num_warmup_steps=warmup_steps,\n",
        "                                            num_training_steps=total_training_steps)"
      ],
      "execution_count": null,
      "outputs": []
    },
    {
      "cell_type": "markdown",
      "metadata": {
        "id": "6BREfv5n0igv"
      },
      "source": [
        "### Training"
      ]
    },
    {
      "cell_type": "code",
      "metadata": {
        "id": "5yOlfaIh0k5g"
      },
      "source": [
        "def format_time(elapsed):\n",
        "  return str(datetime.timedelta(seconds=int(round(elapsed))))"
      ],
      "execution_count": null,
      "outputs": []
    },
    {
      "cell_type": "code",
      "metadata": {
        "colab": {
          "base_uri": "https://localhost:8080/"
        },
        "id": "E9y4dA9c1Nw7",
        "outputId": "c295daa4-bbed-4155-f598-04e29eaccd3f"
      },
      "source": [
        "total_t0 = time.time()\n",
        "\n",
        "training_stats = []\n",
        "\n",
        "model = model.to(device)\n",
        "\n",
        "for epoch_i in range(epochs):\n",
        "  print(f'Beginning epoch {epoch_i+1} of {epochs}')\n",
        "\n",
        "  t0 = time.time()\n",
        "  total_train_loss = 0\n",
        "  model.train()\n",
        "\n",
        "  # Labels are shifted by 1 timestep\n",
        "  for step, batch in enumerate(train_dataloader):\n",
        "    b_input_ids = batch[0].to(device)\n",
        "    b_labels = batch[0].to(device)\n",
        "    b_masks = batch[1].to(device)\n",
        "\n",
        "    model.zero_grad()\n",
        "\n",
        "    outputs = model(b_input_ids,\n",
        "                    labels=b_labels,\n",
        "                    attention_mask=b_masks)\n",
        "\n",
        "    loss = outputs[0]\n",
        "\n",
        "    batch_loss = loss.item()\n",
        "    total_train_loss += batch_loss\n",
        "\n",
        "    # Sampling every x steps\n",
        "    if step != 0 and step % sample_every == 0:\n",
        "\n",
        "      elapsed = format_time(time.time()-t0)\n",
        "      print(f'Batch {step} of {len(train_dataloader)}. Loss: {batch_loss}. Time: {elapsed}')\n",
        "\n",
        "      model.eval()\n",
        "\n",
        "      sample_outputs = model.generate(\n",
        "                                    bos_token_id=random.randint(1,30000),\n",
        "                                    do_sample=True,\n",
        "                                    top_k=50,\n",
        "                                    max_length = 200,\n",
        "                                    top_p=0.95,\n",
        "                                    num_return_sequences=1\n",
        "                                )\n",
        "      for i, sample_output in enumerate(sample_outputs):\n",
        "        print(f'Example ouput: {tokenizer.decode(sample_output, skip_special_tokens=True)}')\n",
        "      print()\n",
        "\n",
        "      model.train()\n",
        "\n",
        "    loss.backward()\n",
        "    optimizer.step()\n",
        "    scheduler.step()\n",
        "\n",
        "  avg_train_loss = total_train_loss / len(train_dataloader)\n",
        "  training_time = format_time(time.time()-t0)\n",
        "  print(f'Average Training Loss: {avg_train_loss}. Epoch time: {training_time}')\n",
        "  print()\n",
        "\n",
        "  t0 = time.time()\n",
        "  model.eval()\n",
        "\n",
        "  total_eval_loss = 0\n",
        "  nb_eval_steps = 0\n",
        "\n",
        "  for batch in val_dataloader:\n",
        "    b_input_ids = batch[0].to(device)\n",
        "    b_labels = batch[0].to(device)\n",
        "    b_masks = batch[1].to(device)\n",
        "\n",
        "    with torch.no_grad():\n",
        "\n",
        "        outputs  = model(b_input_ids,\n",
        "                         attention_mask = b_masks,\n",
        "                         labels=b_labels)\n",
        "\n",
        "        loss = outputs[0]\n",
        "\n",
        "    batch_loss = loss.item()\n",
        "    total_eval_loss += batch_loss\n",
        "\n",
        "  avg_val_loss = total_eval_loss / len(val_dataloader)\n",
        "  val_time = format_time(time.time() - t0)\n",
        "  print(f'Validation loss: {avg_val_loss}. Validation Time: {val_time}')\n",
        "  print()\n",
        "\n",
        "  # Record all statistics from this epoch.\n",
        "  training_stats.append(\n",
        "      {\n",
        "          'epoch': epoch_i + 1,\n",
        "          'Training Loss': avg_train_loss,\n",
        "          'Valid. Loss': avg_val_loss,\n",
        "          'Training Time': training_time,\n",
        "          'Validation Time': val_time\n",
        "      }\n",
        "  )\n",
        "  print(\"------------------------------\")\n",
        "\n",
        "print(f'Total training took {format_time(time.time()-total_t0)}')"
      ],
      "execution_count": null,
      "outputs": [
        {
          "output_type": "stream",
          "text": [
            "Beginning epoch 1 of 4\n"
          ],
          "name": "stdout"
        },
        {
          "output_type": "stream",
          "text": [
            "Setting `pad_token_id` to `eos_token_id`:50256 for open-end generation.\n"
          ],
          "name": "stderr"
        },
        {
          "output_type": "stream",
          "text": [
            "Batch 100 of 3650. Loss: 3.752716064453125. Time: 0:00:35\n",
            "Example ouput:  bipartisanFor the soul and the rest that love to-day,\n",
            "There's no more love,\n",
            "When love is the world's love,\n",
            "Where love is the world's love--\n",
            "Where love is the world's love.\n",
            "\n"
          ],
          "name": "stdout"
        },
        {
          "output_type": "stream",
          "text": [
            "Setting `pad_token_id` to `eos_token_id`:50256 for open-end generation.\n"
          ],
          "name": "stderr"
        },
        {
          "output_type": "stream",
          "text": [
            "Batch 200 of 3650. Loss: 3.003690242767334. Time: 0:01:11\n",
            "Example ouput:  increasingFrom the far shore o'er the shore\n",
            "Hark up to heaven!\n",
            "Hark up to heaven!\n",
            "Hark to heaven!\n",
            "Hark in Heaven for all my life,\n",
            "To all my love,\n",
            "To all my love to be merry.\n",
            "\n"
          ],
          "name": "stdout"
        },
        {
          "output_type": "stream",
          "text": [
            "Setting `pad_token_id` to `eos_token_id`:50256 for open-end generation.\n"
          ],
          "name": "stderr"
        },
        {
          "output_type": "stream",
          "text": [
            "Batch 300 of 3650. Loss: 3.2826004028320312. Time: 0:01:47\n",
            "Example ouput: day\"If in a little place the sun is a-blest!\n",
            "If it be that you have found it is for you,--\n",
            "The world is like a world--the world is like a world\n",
            "And it has not been changed!\n",
            "And now it's a heaven of grace,\n",
            "A world of flowers and love that stirs;\n",
            "But now it is the world that's blest.\n",
            "\n"
          ],
          "name": "stdout"
        },
        {
          "output_type": "stream",
          "text": [
            "Setting `pad_token_id` to `eos_token_id`:50256 for open-end generation.\n"
          ],
          "name": "stderr"
        },
        {
          "output_type": "stream",
          "text": [
            "Batch 400 of 3650. Loss: 2.8988585472106934. Time: 0:02:23\n",
            "Example ouput:  HangFor, in an hour of love\n",
            "That comes and goes the joy\n",
            "As now, I'm gone;\n",
            "Yet, I'm gone\n",
            "With joy for a day.\n",
            "\n"
          ],
          "name": "stdout"
        },
        {
          "output_type": "stream",
          "text": [
            "Setting `pad_token_id` to `eos_token_id`:50256 for open-end generation.\n"
          ],
          "name": "stderr"
        },
        {
          "output_type": "stream",
          "text": [
            "Batch 500 of 3650. Loss: 2.140305995941162. Time: 0:02:59\n",
            "Example ouput:  foodsWhat have thou done with me,\n",
            "And what shall I give with you?\n",
            "For, while I, I know not\n",
            "I know not\n",
            "A boy with a baby.\n",
            "\n"
          ],
          "name": "stdout"
        },
        {
          "output_type": "stream",
          "text": [
            "Setting `pad_token_id` to `eos_token_id`:50256 for open-end generation.\n"
          ],
          "name": "stderr"
        },
        {
          "output_type": "stream",
          "text": [
            "Batch 600 of 3650. Loss: 2.7889275550842285. Time: 0:03:35\n",
            "Example ouput:  trailI could speak of thee and love and love and fear,\n",
            "When young and old, or young and old, and old and old and old,\n",
            "But my soul could say to you and love and fears to be,\n",
            "When you were young and old and old and old and old and old and old and old and old and old.\n",
            "\n"
          ],
          "name": "stdout"
        },
        {
          "output_type": "stream",
          "text": [
            "Setting `pad_token_id` to `eos_token_id`:50256 for open-end generation.\n"
          ],
          "name": "stderr"
        },
        {
          "output_type": "stream",
          "text": [
            "Batch 700 of 3650. Loss: 2.9143824577331543. Time: 0:04:11\n",
            "Example ouput: intendWhat is good now to life?\n",
            "The life-sleepless nature\n",
            "That never will seem so;\n",
            "Yet that which so softly comes!\n",
            "Life is a troubled earth,\n",
            "And still the world-wide earth is sad,\n",
            "Whose voice is not soft;\n",
            "And yet--oh, to this, the softest,\n",
            "The greatest, sweetest!\n",
            "The joy of man or woman\n",
            "Was never yet like love's heart.\n",
            "\n"
          ],
          "name": "stdout"
        },
        {
          "output_type": "stream",
          "text": [
            "Setting `pad_token_id` to `eos_token_id`:50256 for open-end generation.\n"
          ],
          "name": "stderr"
        },
        {
          "output_type": "stream",
          "text": [
            "Batch 800 of 3650. Loss: 2.6473612785339355. Time: 0:04:47\n",
            "Example ouput:  surroundI shall be very pleased now to have that\n",
            "You have not your pains, not your pains, that may be,\n",
            "But you shall live by your pains.\n",
            "\n"
          ],
          "name": "stdout"
        },
        {
          "output_type": "stream",
          "text": [
            "Setting `pad_token_id` to `eos_token_id`:50256 for open-end generation.\n"
          ],
          "name": "stderr"
        },
        {
          "output_type": "stream",
          "text": [
            "Batch 900 of 3650. Loss: 2.227612018585205. Time: 0:05:23\n",
            "Example ouput:  reflexThe young heart of a young,\n",
            "In beauty still seems to move.\n",
            "\n"
          ],
          "name": "stdout"
        },
        {
          "output_type": "stream",
          "text": [
            "Setting `pad_token_id` to `eos_token_id`:50256 for open-end generation.\n"
          ],
          "name": "stderr"
        },
        {
          "output_type": "stream",
          "text": [
            "Batch 1000 of 3650. Loss: 2.2460947036743164. Time: 0:05:59\n",
            "Example ouput:  displayThe sweet maid is there at this touch,\n",
            "That the maiden never can pass,\n",
            "And that her softness will be desired;\n",
            "But my love must never come home\n",
            "In the same old, old way.\n",
            "\n"
          ],
          "name": "stdout"
        },
        {
          "output_type": "stream",
          "text": [
            "Setting `pad_token_id` to `eos_token_id`:50256 for open-end generation.\n"
          ],
          "name": "stderr"
        },
        {
          "output_type": "stream",
          "text": [
            "Batch 1100 of 3650. Loss: 2.8521947860717773. Time: 0:06:35\n",
            "Example ouput:  pastor_In a world of the dark and sunny days\n",
            "He's a coward to laugh at his little love,\n",
            "Than this he shall be of the best.'\n",
            "Then came one to the door of her door,\n",
            "And her was at the window,\n",
            "And on the windows of the door-bight.\n",
            "\n"
          ],
          "name": "stdout"
        },
        {
          "output_type": "stream",
          "text": [
            "Setting `pad_token_id` to `eos_token_id`:50256 for open-end generation.\n"
          ],
          "name": "stderr"
        },
        {
          "output_type": "stream",
          "text": [
            "Batch 1200 of 3650. Loss: 2.515275239944458. Time: 0:07:12\n",
            "Example ouput:  illicitThe lads o' a berry\n",
            "Of all the lads o' all the lasses;\n",
            "But oh!  I know they'll go on\n",
            "To see the lasses o' their birth.\n",
            "\n"
          ],
          "name": "stdout"
        },
        {
          "output_type": "stream",
          "text": [
            "Setting `pad_token_id` to `eos_token_id`:50256 for open-end generation.\n"
          ],
          "name": "stderr"
        },
        {
          "output_type": "stream",
          "text": [
            "Batch 1300 of 3650. Loss: 2.245698928833008. Time: 0:07:48\n",
            "Example ouput:  LiberationI shall know the true star's splendour,\n",
            "And all the glory of his radiant sight;\n",
            "But the star's brightest gem is still a star,\n",
            "And a little light falls from a window to an unseen star;\n",
            "I love the blossom of the star,\n",
            "And a sun in its blue heaven of love is shining,\n",
            "And a garden's soft light and dim with the blue moon's smile;\n",
            "And a star that blushes in the evening's dawn\n",
            "In all the splendour of the blue twilight's rays,\n",
            "To a star, and a star--at night.\n",
            "\n"
          ],
          "name": "stdout"
        },
        {
          "output_type": "stream",
          "text": [
            "Setting `pad_token_id` to `eos_token_id`:50256 for open-end generation.\n"
          ],
          "name": "stderr"
        },
        {
          "output_type": "stream",
          "text": [
            "Batch 1400 of 3650. Loss: 2.570171594619751. Time: 0:08:25\n",
            "Example ouput:  Nam\"Oh, it is you, my love,\n",
            "And I love you now;\n",
            "For then to say, you shall have the same\n",
            "That I have never seen.\n",
            "\n"
          ],
          "name": "stdout"
        },
        {
          "output_type": "stream",
          "text": [
            "Setting `pad_token_id` to `eos_token_id`:50256 for open-end generation.\n"
          ],
          "name": "stderr"
        },
        {
          "output_type": "stream",
          "text": [
            "Batch 1500 of 3650. Loss: 3.235653877258301. Time: 0:09:01\n",
            "Example ouput: IONHow should you hear the love you made in your eyes,\n",
            "And how, after you, have made her sweet moan;\n",
            "How do you think I will look at you as I do,\n",
            "And make myself so glad?\n",
            "What have I of her love? What, and why?\n",
            "I cannot tell you why,\n",
            "Or she, I will be glad?\n",
            "You say she loved you,--oh, you have loved me,--and now you love me.\n",
            "\n"
          ],
          "name": "stdout"
        },
        {
          "output_type": "stream",
          "text": [
            "Setting `pad_token_id` to `eos_token_id`:50256 for open-end generation.\n"
          ],
          "name": "stderr"
        },
        {
          "output_type": "stream",
          "text": [
            "Batch 1600 of 3650. Loss: 1.788403034210205. Time: 0:09:37\n",
            "Example ouput:  glimpseBut then I think I heard to-night,\n",
            "And the morning breeze from the grass,\n",
            "And the night comes back to life,\n",
            "Flaming over my soul in a dream.\n",
            "\n"
          ],
          "name": "stdout"
        },
        {
          "output_type": "stream",
          "text": [
            "Setting `pad_token_id` to `eos_token_id`:50256 for open-end generation.\n"
          ],
          "name": "stderr"
        },
        {
          "output_type": "stream",
          "text": [
            "Batch 1700 of 3650. Loss: 2.551776885986328. Time: 0:10:13\n",
            "Example ouput:  LaureAnd all love the fairest beauty could conceiv,\n",
            "And all the joyous heart's first love's first love's own sweet joy.\n",
            "\n"
          ],
          "name": "stdout"
        },
        {
          "output_type": "stream",
          "text": [
            "Setting `pad_token_id` to `eos_token_id`:50256 for open-end generation.\n"
          ],
          "name": "stderr"
        },
        {
          "output_type": "stream",
          "text": [
            "Batch 1800 of 3650. Loss: 2.720710277557373. Time: 0:10:49\n",
            "Example ouput: ismIt was a strange sort of passion, which was in all\n",
            "where that this was not more kind of music, more kind of pain,\n",
            "than the music of the heart.\"\n",
            "The music, which made it seem to be near me, has a power\n",
            "emphodel in its core, is only as a beautiful\n",
            "emphodel in its core, and there is a feeling of peace and the\n",
            "love of the heart; and yet it is\n",
            "thine own\n",
            "thoughts that I have known thee, in the pureness of the face,\n",
            "thoughts that have given\n",
            "me its tenderness to the face.\n",
            "\n"
          ],
          "name": "stdout"
        },
        {
          "output_type": "stream",
          "text": [
            "Setting `pad_token_id` to `eos_token_id`:50256 for open-end generation.\n"
          ],
          "name": "stderr"
        },
        {
          "output_type": "stream",
          "text": [
            "Batch 1900 of 3650. Loss: 3.010333776473999. Time: 0:11:26\n",
            "Example ouput: ounFor, forsooth in me,\n",
            "Wher evere I yow,\n",
            "To speke of him that mai noght\n",
            "With hirete forto chiere,\n",
            "That natheles he so schal seith\n",
            "That he wolde be noght\n",
            "Er what be mai be envenience\n",
            "Aein to ben soothes,\n",
            "And thogh I schal be sovere\n",
            "That he be of such a wise\n",
            "That he is so as I swete\n",
            "The mai be wher herte to lete softe\n",
            "A-wel ofte lis wyht.\n",
            "\n"
          ],
          "name": "stdout"
        },
        {
          "output_type": "stream",
          "text": [
            "Setting `pad_token_id` to `eos_token_id`:50256 for open-end generation.\n"
          ],
          "name": "stderr"
        },
        {
          "output_type": "stream",
          "text": [
            "Batch 2000 of 3650. Loss: 2.676755905151367. Time: 0:12:04\n",
            "Example ouput:  electionIf you shall not kiss your lips, do I love\n",
            "Your soft, delicate lips--\n",
            "I will love you now, you know!\n",
            "You'd not let the love I would give--\n",
            "Love me, love me, you more.\"\n",
            "Yes, she said--\"Oh, love me! I'm sure!\n",
            "I'm sure as if love I'd give you a kiss,\n",
            "Would my soul to you be.\n",
            "\n"
          ],
          "name": "stdout"
        },
        {
          "output_type": "stream",
          "text": [
            "Setting `pad_token_id` to `eos_token_id`:50256 for open-end generation.\n"
          ],
          "name": "stderr"
        },
        {
          "output_type": "stream",
          "text": [
            "Batch 2100 of 3650. Loss: 3.101613998413086. Time: 0:12:40\n",
            "Example ouput:  crazyThen I, too, to the fair\n",
            "Ere he had come from his native shore\n",
            "From that beautiful land of my childhood.\n",
            "\n"
          ],
          "name": "stdout"
        },
        {
          "output_type": "stream",
          "text": [
            "Setting `pad_token_id` to `eos_token_id`:50256 for open-end generation.\n"
          ],
          "name": "stderr"
        },
        {
          "output_type": "stream",
          "text": [
            "Batch 2200 of 3650. Loss: 2.4288506507873535. Time: 0:13:16\n",
            "Example ouput:  benchTo hear, so goodly,\n",
            "In some small garden,\n",
            "The love that so much sings\n",
            "To cheer me when I do.\n",
            "\n"
          ],
          "name": "stdout"
        },
        {
          "output_type": "stream",
          "text": [
            "Setting `pad_token_id` to `eos_token_id`:50256 for open-end generation.\n"
          ],
          "name": "stderr"
        },
        {
          "output_type": "stream",
          "text": [
            "Batch 2300 of 3650. Loss: 2.799207925796509. Time: 0:13:52\n",
            "Example ouput:  incorporatedHis daughter, the widow's daughter,\n",
            "In their early youth's joyous days didst she wed,\n",
            "And her wife that joyous life had made\n",
            "The love that the years had known!\n",
            "No man she had but looked down,\n",
            "He sought to make her think,\n",
            "And he had found her, and he was dead.\n",
            "\n"
          ],
          "name": "stdout"
        },
        {
          "output_type": "stream",
          "text": [
            "Setting `pad_token_id` to `eos_token_id`:50256 for open-end generation.\n"
          ],
          "name": "stderr"
        },
        {
          "output_type": "stream",
          "text": [
            "Batch 2400 of 3650. Loss: 2.3113648891448975. Time: 0:14:29\n",
            "Example ouput: Peter_Carolled._  It was the day of the day\n",
            "My heart was glad with joy, and I was glad for her\n",
            "And my heart was gay with pleasure. And the blue dawn\n",
            "Shed forth its little star in the night;\n",
            "And the evening-long day went by.\n",
            "\n"
          ],
          "name": "stdout"
        },
        {
          "output_type": "stream",
          "text": [
            "Setting `pad_token_id` to `eos_token_id`:50256 for open-end generation.\n"
          ],
          "name": "stderr"
        },
        {
          "output_type": "stream",
          "text": [
            "Batch 2500 of 3650. Loss: 2.671018123626709. Time: 0:15:05\n",
            "Example ouput: uring\"I have been a knight of the Lord,\" they said,\n",
            "\"And this was in my heart a splendid story\n",
            "Of triumph, and the victory.\n",
            "\n"
          ],
          "name": "stdout"
        },
        {
          "output_type": "stream",
          "text": [
            "Setting `pad_token_id` to `eos_token_id`:50256 for open-end generation.\n"
          ],
          "name": "stderr"
        },
        {
          "output_type": "stream",
          "text": [
            "Batch 2600 of 3650. Loss: 2.5745880603790283. Time: 0:15:41\n",
            "Example ouput:  reproductiveSo to me, as when it is done,\n",
            "It is an allurement to her,\n",
            "With many an eye and many a heart,\n",
            "That all things are smiling.\n",
            "\n"
          ],
          "name": "stdout"
        },
        {
          "output_type": "stream",
          "text": [
            "Setting `pad_token_id` to `eos_token_id`:50256 for open-end generation.\n"
          ],
          "name": "stderr"
        },
        {
          "output_type": "stream",
          "text": [
            "Batch 2700 of 3650. Loss: 2.888519048690796. Time: 0:16:17\n",
            "Example ouput:  zoneAway, away, away! away,\n",
            "And we may not have more leisure here,\n",
            "We may not enjoy the sun more freely;\n",
            "The flowers which grow the more, we are never glad.\n",
            "\n"
          ],
          "name": "stdout"
        },
        {
          "output_type": "stream",
          "text": [
            "Setting `pad_token_id` to `eos_token_id`:50256 for open-end generation.\n"
          ],
          "name": "stderr"
        },
        {
          "output_type": "stream",
          "text": [
            "Batch 2800 of 3650. Loss: 2.2377490997314453. Time: 0:16:53\n",
            "Example ouput:  commitsThe birds of the earth were fain,\n",
            "The wild-flowers on the green;\n",
            "The birds of their beauty lived\n",
            "In silent hues, no more.\n",
            "\n"
          ],
          "name": "stdout"
        },
        {
          "output_type": "stream",
          "text": [
            "Setting `pad_token_id` to `eos_token_id`:50256 for open-end generation.\n"
          ],
          "name": "stderr"
        },
        {
          "output_type": "stream",
          "text": [
            "Batch 2900 of 3650. Loss: 2.129464864730835. Time: 0:17:29\n",
            "Example ouput:  ironyThe heart-torn birds are wakened in May;\n",
            "In all their woodland fields in May,\n",
            "So glad and glad are the trees.\n",
            "\n"
          ],
          "name": "stdout"
        },
        {
          "output_type": "stream",
          "text": [
            "Setting `pad_token_id` to `eos_token_id`:50256 for open-end generation.\n"
          ],
          "name": "stderr"
        },
        {
          "output_type": "stream",
          "text": [
            "Batch 3000 of 3650. Loss: 2.2607898712158203. Time: 0:18:05\n",
            "Example ouput:  SahThan a fair maid the children meet\n",
            "Thy happy hours, with a smile so sweet\n",
            "And so sweet, is a merry, happy night;\n",
            "A happy night is sweet and fair\n",
            "By her side! and a happy dream\n",
            "When all is day;\n",
            "Fair night's sweet morning is by\n",
            "When Spring is near,\n",
            "And the summer day is bright.\n",
            "\n"
          ],
          "name": "stdout"
        },
        {
          "output_type": "stream",
          "text": [
            "Setting `pad_token_id` to `eos_token_id`:50256 for open-end generation.\n"
          ],
          "name": "stderr"
        },
        {
          "output_type": "stream",
          "text": [
            "Batch 3100 of 3650. Loss: 2.3492698669433594. Time: 0:18:42\n",
            "Example ouput:  BryanThere were flowers and flower and sunshine in the spring:\n",
            "In the light that bloom'd the summer night;\n",
            "In the sunshine 'neath the starry sky;\n",
            "In the sweet sunshine 'neath the night and day;\n",
            "In the sunshine 'neath the sunny skies.\n",
            "\n"
          ],
          "name": "stdout"
        },
        {
          "output_type": "stream",
          "text": [
            "Setting `pad_token_id` to `eos_token_id`:50256 for open-end generation.\n"
          ],
          "name": "stderr"
        },
        {
          "output_type": "stream",
          "text": [
            "Batch 3200 of 3650. Loss: 3.5713188648223877. Time: 0:19:18\n",
            "Example ouput:  spiritsThe soul's rapt devotion, love's desire,\n",
            "The tenderness's softness, to each end\n",
            "With its own calm, sweet tender flame of day\n",
            "And winter's sweet summer's balmy night,\n",
            "Makes up the dreamland's gladness, to rest\n",
            "On his own breast, and with his heart's sad, sad heart\n",
            "Shone in the night to sleep again,\n",
            "In the hope that he, with glad and glad heart,\n",
            "Lifts with its sad desire\n",
            "To hear the voice of thy love in me.\n",
            "\n"
          ],
          "name": "stdout"
        },
        {
          "output_type": "stream",
          "text": [
            "Setting `pad_token_id` to `eos_token_id`:50256 for open-end generation.\n"
          ],
          "name": "stderr"
        },
        {
          "output_type": "stream",
          "text": [
            "Batch 3300 of 3650. Loss: 2.5079493522644043. Time: 0:19:55\n",
            "Example ouput:  seesThen thou wilt learn the art of war,\n",
            "For in my heart 'tis mine\n",
            "If I can see my friend with whom\n",
            "The glory of thy power is so.\n",
            "\n"
          ],
          "name": "stdout"
        },
        {
          "output_type": "stream",
          "text": [
            "Setting `pad_token_id` to `eos_token_id`:50256 for open-end generation.\n"
          ],
          "name": "stderr"
        },
        {
          "output_type": "stream",
          "text": [
            "Batch 3400 of 3650. Loss: 2.4165568351745605. Time: 0:20:31\n",
            "Example ouput:  hungry\"Behold! the merry days are done,\n",
            "The birds in the morning bowers\n",
            "Have learned the words for music,\n",
            "And they all sing the same.\n",
            "\n"
          ],
          "name": "stdout"
        },
        {
          "output_type": "stream",
          "text": [
            "Setting `pad_token_id` to `eos_token_id`:50256 for open-end generation.\n"
          ],
          "name": "stderr"
        },
        {
          "output_type": "stream",
          "text": [
            "Batch 3500 of 3650. Loss: 2.3638296127319336. Time: 0:21:07\n",
            "Example ouput:  PTThine ear is as of a sea-flower\n",
            "From her lips:\n",
            "And in my ears,\n",
            "O, I am more than fair,\n",
            "And yet, O!\n",
            "My lips were always wet\n",
            "With tears:\n",
            "But oh, I know,\n",
            "Thou's the only voice,\n",
            "That's my intent,\n",
            "All on thee!\n",
            "I love thee, O,\n",
            "E'en at first;\n",
            "Thou's the only voice,\n",
            "Mine my only voice!\n",
            "No! none, there's not to me!\n",
            "Nothing more beautiful,\n",
            "To me!\n",
            "Only of the night\n",
            "Is to me!\n",
            "And\n",
            "My only face.\n",
            "\n"
          ],
          "name": "stdout"
        },
        {
          "output_type": "stream",
          "text": [
            "Setting `pad_token_id` to `eos_token_id`:50256 for open-end generation.\n"
          ],
          "name": "stderr"
        },
        {
          "output_type": "stream",
          "text": [
            "Batch 3600 of 3650. Loss: 3.6527507305145264. Time: 0:21:44\n",
            "Example ouput: üNow that I am glad and be content,\n",
            "As here at home with others rest,\n",
            "For these that do remain\n",
            "And that which have been good the most.\n",
            "\n",
            "Average Training Loss: 2.7162551250196483. Epoch time: 0:22:02\n",
            "\n",
            "Validation loss: 2.5415158145533407. Validation Time: 0:00:40\n",
            "\n",
            "------------------------------\n",
            "Beginning epoch 2 of 4\n"
          ],
          "name": "stdout"
        },
        {
          "output_type": "stream",
          "text": [
            "Setting `pad_token_id` to `eos_token_id`:50256 for open-end generation.\n"
          ],
          "name": "stderr"
        },
        {
          "output_type": "stream",
          "text": [
            "Batch 100 of 3650. Loss: 2.3286209106445312. Time: 0:00:36\n",
            "Example ouput: ruce\"If you were old,\" said Little John, to the lad;\n",
            "\"But I was old.\"\n",
            "And the old Lady turned with her old eyes:\n",
            "\"You never will grow old.\"\n",
            "The old Lady turned her old eyes,\n",
            "And found herself old and young;\n",
            "And the old Lady turned and found herself old,\n",
            "And the old Lady turned and found herself old.\n",
            "\n"
          ],
          "name": "stdout"
        },
        {
          "output_type": "stream",
          "text": [
            "Setting `pad_token_id` to `eos_token_id`:50256 for open-end generation.\n"
          ],
          "name": "stderr"
        },
        {
          "output_type": "stream",
          "text": [
            "Batch 200 of 3650. Loss: 2.5288562774658203. Time: 0:01:12\n",
            "Example ouput:  derivativesAway with joy I look at thy rosy form,\n",
            "And am, in thy tenderness, like a spring\n",
            "Or a shining gem, that o'er thy breast doth flow,\n",
            "Through the dusk of all thy life doth creep.\n",
            "\n"
          ],
          "name": "stdout"
        },
        {
          "output_type": "stream",
          "text": [
            "Setting `pad_token_id` to `eos_token_id`:50256 for open-end generation.\n"
          ],
          "name": "stderr"
        },
        {
          "output_type": "stream",
          "text": [
            "Batch 300 of 3650. Loss: 2.099438190460205. Time: 0:01:48\n",
            "Example ouput: \u0019And so it is I love thee for that sweet sweet\n",
            "Piping of that delicate music which I\n",
            "With tender love for thee never can control.\n",
            "\n"
          ],
          "name": "stdout"
        },
        {
          "output_type": "stream",
          "text": [
            "Setting `pad_token_id` to `eos_token_id`:50256 for open-end generation.\n"
          ],
          "name": "stderr"
        },
        {
          "output_type": "stream",
          "text": [
            "Batch 400 of 3650. Loss: 2.281428098678589. Time: 0:02:24\n",
            "Example ouput:  rememberingYet the mind has not yet been driven,\n",
            "Nor has it yet been hurled from my breast;\n",
            "For I had a hope that was not vain,\n",
            "And a passion which I had been afraid.\n",
            "\n"
          ],
          "name": "stdout"
        },
        {
          "output_type": "stream",
          "text": [
            "Setting `pad_token_id` to `eos_token_id`:50256 for open-end generation.\n"
          ],
          "name": "stderr"
        },
        {
          "output_type": "stream",
          "text": [
            "Batch 500 of 3650. Loss: 2.5243613719940186. Time: 0:03:01\n",
            "Example ouput:  SourcesNow that I am no longer in love with thee,\n",
            "I will not give her a kiss, my love, because\n",
            "Of which I've told you in an hour.\n",
            "\n"
          ],
          "name": "stdout"
        },
        {
          "output_type": "stream",
          "text": [
            "Setting `pad_token_id` to `eos_token_id`:50256 for open-end generation.\n"
          ],
          "name": "stderr"
        },
        {
          "output_type": "stream",
          "text": [
            "Batch 600 of 3650. Loss: 2.4268085956573486. Time: 0:03:37\n",
            "Example ouput: emsMy joy, my griefs, my griefs, my hope,\n",
            "My faith, my love, my whole life--\n",
            "My very peace, my joys!\n",
            "For love is like the fire-fly\n",
            "That flutters across the wings\n",
            "And sings at the sun's bright smile,\n",
            "But it lives in his eyes.\n",
            "\n"
          ],
          "name": "stdout"
        },
        {
          "output_type": "stream",
          "text": [
            "Setting `pad_token_id` to `eos_token_id`:50256 for open-end generation.\n"
          ],
          "name": "stderr"
        },
        {
          "output_type": "stream",
          "text": [
            "Batch 700 of 3650. Loss: 2.313572645187378. Time: 0:04:13\n",
            "Example ouput: tzAnd they shall say that, when they pass\n",
            "Around their homes and far away,\n",
            "They have never seen\n",
            "An Indian youth nor any daughter\n",
            "That knew or cared for.\n",
            "\n"
          ],
          "name": "stdout"
        },
        {
          "output_type": "stream",
          "text": [
            "Setting `pad_token_id` to `eos_token_id`:50256 for open-end generation.\n"
          ],
          "name": "stderr"
        },
        {
          "output_type": "stream",
          "text": [
            "Batch 800 of 3650. Loss: 2.051727771759033. Time: 0:04:49\n",
            "Example ouput: maticThou lov'st the sweet, and waken'd the sad,\n",
            "I wreathe it, and I waken, until the tears are past;\n",
            "And the lily breathes in the lonely brook;\n",
            "The brook is calling for thee to come--and so thou hast come.\n",
            "\n"
          ],
          "name": "stdout"
        },
        {
          "output_type": "stream",
          "text": [
            "Setting `pad_token_id` to `eos_token_id`:50256 for open-end generation.\n"
          ],
          "name": "stderr"
        },
        {
          "output_type": "stream",
          "text": [
            "Batch 900 of 3650. Loss: 2.2351176738739014. Time: 0:05:26\n",
            "Example ouput:  synd\"And thus the King of Hills return'd,\n",
            "As he left, and left us, as he left;\n",
            "There he found the monarch, a monarch there,\n",
            "And thus the King of Hills return'd:\n",
            "\"Now, now, my lord, my queen, I pray,\n",
            "Let thine own offspring stand in view\n",
            "And join the monarch's royal train.\n",
            "\n"
          ],
          "name": "stdout"
        },
        {
          "output_type": "stream",
          "text": [
            "Setting `pad_token_id` to `eos_token_id`:50256 for open-end generation.\n"
          ],
          "name": "stderr"
        },
        {
          "output_type": "stream",
          "text": [
            "Batch 1000 of 3650. Loss: 2.8514742851257324. Time: 0:06:02\n",
            "Example ouput:  gamI did not care my words\n",
            "What were their joyous moods;\n",
            "They only cared for me, and for me,\n",
            "And for me, and for my love.\n",
            "\n"
          ],
          "name": "stdout"
        },
        {
          "output_type": "stream",
          "text": [
            "Setting `pad_token_id` to `eos_token_id`:50256 for open-end generation.\n"
          ],
          "name": "stderr"
        },
        {
          "output_type": "stream",
          "text": [
            "Batch 1100 of 3650. Loss: 2.521923065185547. Time: 0:06:38\n",
            "Example ouput:  injuryO Father, howe'er thou art a child,\n",
            "Howe'er thou art blest in the eyes\n",
            "Of the grave and grave!\n",
            "He that hath not been made to be\n",
            "The one whose love is all too warm,\n",
            "The one whose joy is all too warm;\n",
            "The one whose life is all too tender\n",
            "Is all that is dear to me;\n",
            "And when a Christian mother's child\n",
            "She seeks, for she is just as wise.\n",
            "\n"
          ],
          "name": "stdout"
        },
        {
          "output_type": "stream",
          "text": [
            "Setting `pad_token_id` to `eos_token_id`:50256 for open-end generation.\n"
          ],
          "name": "stderr"
        },
        {
          "output_type": "stream",
          "text": [
            "Batch 1200 of 3650. Loss: 2.1592600345611572. Time: 0:07:15\n",
            "Example ouput: azaI saw this daughter, whom God orders,\n",
            "She was so pure, and so young,\n",
            "In very fullest measure of her features,\n",
            "In her high and stately state,\n",
            "By her high and sumptuous grace,\n",
            "Sculpless, childless, and pure,\n",
            "She bent to heaven in beauty.\n",
            "\n"
          ],
          "name": "stdout"
        },
        {
          "output_type": "stream",
          "text": [
            "Setting `pad_token_id` to `eos_token_id`:50256 for open-end generation.\n"
          ],
          "name": "stderr"
        },
        {
          "output_type": "stream",
          "text": [
            "Batch 1300 of 3650. Loss: 1.7709678411483765. Time: 0:07:51\n",
            "Example ouput:  membraneIf there, I think, could be much to praise\n",
            "How soft, how soft! for all I loved so well,\n",
            "The world itself, and the world, were both.\n",
            "\n"
          ],
          "name": "stdout"
        },
        {
          "output_type": "stream",
          "text": [
            "Setting `pad_token_id` to `eos_token_id`:50256 for open-end generation.\n"
          ],
          "name": "stderr"
        },
        {
          "output_type": "stream",
          "text": [
            "Batch 1400 of 3650. Loss: 1.9334720373153687. Time: 0:08:27\n",
            "Example ouput: ijingThe sun goes laughing, with joy,\n",
            "To set, I must go to the sea,\n",
            "And, though my lips are wet,\n",
            "I'd rather eat some bread, than eat some cheese.\n",
            "\n"
          ],
          "name": "stdout"
        },
        {
          "output_type": "stream",
          "text": [
            "Setting `pad_token_id` to `eos_token_id`:50256 for open-end generation.\n"
          ],
          "name": "stderr"
        },
        {
          "output_type": "stream",
          "text": [
            "Batch 1500 of 3650. Loss: 2.382021903991699. Time: 0:09:03\n",
            "Example ouput:  castO! beautiful is the summer sky\n",
            "Where the clouds round her sail;\n",
            "But still the clouds are shining bright,\n",
            "And the clouds are moving westward,\n",
            "And shadows, that the summer night denies,\n",
            "Shall not be so dark as she?\n",
            "Then shall not the night of sunshine\n",
            "Blend across the fields and trees;\n",
            "Nor will the winter's cold air\n",
            "Seem white as she.\n",
            "\n"
          ],
          "name": "stdout"
        },
        {
          "output_type": "stream",
          "text": [
            "Setting `pad_token_id` to `eos_token_id`:50256 for open-end generation.\n"
          ],
          "name": "stderr"
        },
        {
          "output_type": "stream",
          "text": [
            "Batch 1600 of 3650. Loss: 1.8833268880844116. Time: 0:09:40\n",
            "Example ouput:  purchHe has the power of God, and the will of Him,\n",
            "Who will make a woman's birth with love for him.\n",
            "\n"
          ],
          "name": "stdout"
        },
        {
          "output_type": "stream",
          "text": [
            "Setting `pad_token_id` to `eos_token_id`:50256 for open-end generation.\n"
          ],
          "name": "stderr"
        },
        {
          "output_type": "stream",
          "text": [
            "Batch 1700 of 3650. Loss: 2.504509449005127. Time: 0:10:16\n",
            "Example ouput:  shoulders\"I saw them not; I saw them not;\n",
            "I saw them not:--we had seen them not.\"\n",
            "\"And we love these things we would do\n",
            "In a long year.\n",
            "\n"
          ],
          "name": "stdout"
        },
        {
          "output_type": "stream",
          "text": [
            "Setting `pad_token_id` to `eos_token_id`:50256 for open-end generation.\n"
          ],
          "name": "stderr"
        },
        {
          "output_type": "stream",
          "text": [
            "Batch 1800 of 3650. Loss: 2.3947460651397705. Time: 0:10:52\n",
            "Example ouput:  builtI heard the little children say:\n",
            "\"Give them some bread and some milk and bread,\n",
            "And so we've got a handsome pair.\n",
            "\n"
          ],
          "name": "stdout"
        },
        {
          "output_type": "stream",
          "text": [
            "Setting `pad_token_id` to `eos_token_id`:50256 for open-end generation.\n"
          ],
          "name": "stderr"
        },
        {
          "output_type": "stream",
          "text": [
            "Batch 1900 of 3650. Loss: 2.0129454135894775. Time: 0:11:28\n",
            "Example ouput:  openlyThey think of thee; I am the mother\n",
            "Of three old springs, to know thy truth;\n",
            "When in life's untide, my heart, my love,\n",
            "My life's the cradle of my days.\n",
            "\n"
          ],
          "name": "stdout"
        },
        {
          "output_type": "stream",
          "text": [
            "Setting `pad_token_id` to `eos_token_id`:50256 for open-end generation.\n"
          ],
          "name": "stderr"
        },
        {
          "output_type": "stream",
          "text": [
            "Batch 2000 of 3650. Loss: 1.8887914419174194. Time: 0:12:04\n",
            "Example ouput:  haltedAnd I, methinks, in a dream,\n",
            "Received in a twilight night.\n",
            "\n"
          ],
          "name": "stdout"
        },
        {
          "output_type": "stream",
          "text": [
            "Setting `pad_token_id` to `eos_token_id`:50256 for open-end generation.\n"
          ],
          "name": "stderr"
        },
        {
          "output_type": "stream",
          "text": [
            "Batch 2100 of 3650. Loss: 2.45630145072937. Time: 0:12:40\n",
            "Example ouput:  Nik\"_I am going to buy a wig,\"\n",
            "And they talked of women beautiful and fair,\n",
            "And there was a girl whom every day\n",
            "Was smiling and beautiful with her curls,\n",
            "Who took all she gave in her own,\n",
            "And she was a saint--all in my life.\n",
            "\n"
          ],
          "name": "stdout"
        },
        {
          "output_type": "stream",
          "text": [
            "Setting `pad_token_id` to `eos_token_id`:50256 for open-end generation.\n"
          ],
          "name": "stderr"
        },
        {
          "output_type": "stream",
          "text": [
            "Batch 2200 of 3650. Loss: 1.9135499000549316. Time: 0:13:16\n",
            "Example ouput:  tinAnd then,--ah me; how the old man's smile--\n",
            "How the young man with his plumes,\n",
            "As he toils with his hands on the grass,\n",
            "As he rests, when he rests on the hill,\n",
            "The long, wet valley of the valley\n",
            "And the yellow, dusty path--\n",
            "And to that dark cave, the gentle boy\n",
            "Sighs, \"Did you see that you had lost your own?\n",
            "\"It is a wonder to leave\n",
            "Thy memory in my heart!\"\n",
            "And you, too, who read the tale, will wonder\n",
            "As soon,\n",
            "Will wonder how little heed\n",
            "Wonderful they,\n",
            "The tale of the tale they read\n",
            "When they have found it in their eyes\n",
            "From you so soon;\n",
            "Ere,\n",
            "And forgot to-off\n",
            "To see\n",
            "How soon.\n",
            "\n"
          ],
          "name": "stdout"
        },
        {
          "output_type": "stream",
          "text": [
            "Setting `pad_token_id` to `eos_token_id`:50256 for open-end generation.\n"
          ],
          "name": "stderr"
        },
        {
          "output_type": "stream",
          "text": [
            "Batch 2300 of 3650. Loss: 3.068753242492676. Time: 0:13:54\n",
            "Example ouput:  clinical\"How should a poet's verse be told\n",
            "To mortal ears?\"\n",
            "\"That he loved a painter, man,\"\n",
            "\"And his picturesque fancies told;\n",
            "And he said, \"I love, I love them.\"\n",
            "\"Ah, yes, the man who died,\"\n",
            "\"Was my friend,\"\n",
            "\"The man who died,\"\n",
            "\"But his picturesque fancies told,\n",
            "And he never dreamed, man.\"\n",
            "\"If his fancies are told, man,\"\n",
            "\"I must die,\"\n",
            "\"I love,\"\n",
            "\"I love,\"--\n",
            "\"But I do,\"\n",
            "\"I must die,\"\n",
            "\"\"O let them,\"\n",
            "\"On the sun's hoary day.\"\n",
            "That day.\n",
            "\n"
          ],
          "name": "stdout"
        },
        {
          "output_type": "stream",
          "text": [
            "Setting `pad_token_id` to `eos_token_id`:50256 for open-end generation.\n"
          ],
          "name": "stderr"
        },
        {
          "output_type": "stream",
          "text": [
            "Batch 2400 of 3650. Loss: 1.8607133626937866. Time: 0:14:31\n",
            "Example ouput: lectionsAnd let not the angels go to be at rest\n",
            "But keep their solemn music from the gale,\n",
            "For all the songs that Heaven inspires\n",
            "To rapturous echoes that hear on high,\n",
            "Are sweeter than the angels' song.\n",
            "\n"
          ],
          "name": "stdout"
        },
        {
          "output_type": "stream",
          "text": [
            "Setting `pad_token_id` to `eos_token_id`:50256 for open-end generation.\n"
          ],
          "name": "stderr"
        },
        {
          "output_type": "stream",
          "text": [
            "Batch 2500 of 3650. Loss: 2.7325856685638428. Time: 0:15:07\n",
            "Example ouput: elsWe may not find room for sorrow,\n",
            "For love's soft and tenderness;\n",
            "But we must not be the same\n",
            "As we have for other things.\n",
            "\n"
          ],
          "name": "stdout"
        },
        {
          "output_type": "stream",
          "text": [
            "Setting `pad_token_id` to `eos_token_id`:50256 for open-end generation.\n"
          ],
          "name": "stderr"
        },
        {
          "output_type": "stream",
          "text": [
            "Batch 2600 of 3650. Loss: 2.510974645614624. Time: 0:15:43\n",
            "Example ouput: labThy love was always on the wing of Nature,\n",
            "Her face was full of such whiteness as an angel's wings,\n",
            "That she had found for heaven and earth, but the breath\n",
            "Of her own sweet voice to tell her heart had made her go.\n",
            "\n"
          ],
          "name": "stdout"
        },
        {
          "output_type": "stream",
          "text": [
            "Setting `pad_token_id` to `eos_token_id`:50256 for open-end generation.\n"
          ],
          "name": "stderr"
        },
        {
          "output_type": "stream",
          "text": [
            "Batch 2700 of 3650. Loss: 2.372866630554199. Time: 0:16:19\n",
            "Example ouput:  tripleBut what did my fancy paint, and my fancy paint?\n",
            "For it was the last of those things I saw to come;\n",
            "It was my soul's first passion in my heart, and the reason\n",
            "That I should have stayed in the woods as I used to have been.\n",
            "\n"
          ],
          "name": "stdout"
        },
        {
          "output_type": "stream",
          "text": [
            "Setting `pad_token_id` to `eos_token_id`:50256 for open-end generation.\n"
          ],
          "name": "stderr"
        },
        {
          "output_type": "stream",
          "text": [
            "Batch 2800 of 3650. Loss: 1.9778016805648804. Time: 0:16:56\n",
            "Example ouput: 220\"O God! in thy eternal love\n",
            "Shall all thy glory be?\n",
            "And when my footsteps seek thy ways,\n",
            "I shall feel thy beauty.\n",
            "\n"
          ],
          "name": "stdout"
        },
        {
          "output_type": "stream",
          "text": [
            "Setting `pad_token_id` to `eos_token_id`:50256 for open-end generation.\n"
          ],
          "name": "stderr"
        },
        {
          "output_type": "stream",
          "text": [
            "Batch 2900 of 3650. Loss: 2.384805917739868. Time: 0:17:32\n",
            "Example ouput:  See\"I see some little blue eyes, bright curls hair on forehead and hair,\n",
            "And a kind of smile, and a voice as fine and sweet\n",
            "As if a child were wearing its proper clothes;\n",
            "And all the little laughters and the mother,\n",
            "That used to be a treat and a treat,\n",
            "All the little ones, laughing and prattling and prinking,\n",
            "Seemed to live in very strange places.\n",
            "\n"
          ],
          "name": "stdout"
        },
        {
          "output_type": "stream",
          "text": [
            "Setting `pad_token_id` to `eos_token_id`:50256 for open-end generation.\n"
          ],
          "name": "stderr"
        },
        {
          "output_type": "stream",
          "text": [
            "Batch 3000 of 3650. Loss: 2.6534342765808105. Time: 0:18:08\n",
            "Example ouput: @@They'll sing a tune whose sound most dear,\n",
            "For whom their loves are born--I'll sing a more--\n",
            "The songs which, through their power of pain,\n",
            "From one half-hung organ swell,\n",
            "And fill their heaven-tendrils well,\n",
            "To God's altar here is found.\n",
            "\n"
          ],
          "name": "stdout"
        },
        {
          "output_type": "stream",
          "text": [
            "Setting `pad_token_id` to `eos_token_id`:50256 for open-end generation.\n"
          ],
          "name": "stderr"
        },
        {
          "output_type": "stream",
          "text": [
            "Batch 3100 of 3650. Loss: 1.6173338890075684. Time: 0:18:45\n",
            "Example ouput:  hostYou, who, love! can make no love;\n",
            "No, no, love, you are as dead;\n",
            "Nor can your spirit, like mine,\n",
            "Make life but love while it lasts.\n",
            "\n"
          ],
          "name": "stdout"
        },
        {
          "output_type": "stream",
          "text": [
            "Setting `pad_token_id` to `eos_token_id`:50256 for open-end generation.\n"
          ],
          "name": "stderr"
        },
        {
          "output_type": "stream",
          "text": [
            "Batch 3200 of 3650. Loss: 2.4216983318328857. Time: 0:19:21\n",
            "Example ouput: roleAnd at first, at last the hero / his fair daughter / to them turned aside:\n",
            "\"Now hear me speak the words / to Sohar, / for I'll return again.\"\n",
            "Then the youth, / to look up to Sohar's face,\n",
            "\"As to a woman / thyself will do,\" / reply'd.\n",
            "\n"
          ],
          "name": "stdout"
        },
        {
          "output_type": "stream",
          "text": [
            "Setting `pad_token_id` to `eos_token_id`:50256 for open-end generation.\n"
          ],
          "name": "stderr"
        },
        {
          "output_type": "stream",
          "text": [
            "Batch 3300 of 3650. Loss: 2.6706693172454834. Time: 0:19:57\n",
            "Example ouput: iacThey say to the rest men were a foolish few:\n",
            "But they would love, and they would hate,\n",
            "And only wish'd to keep love with me!\n",
            "They think I have never known a child\n",
            "Save one in childhood; yet, so,\n",
            "One hears my mother laughing and saying,\n",
            "\"It was a child and I were happy together!\"\n",
            "Well, you know my meaning.  The man can laugh at me;\n",
            "He knows my words, I know my wife's speech,\n",
            "And can say I have been with such an Indian child.\n",
            "\n"
          ],
          "name": "stdout"
        },
        {
          "output_type": "stream",
          "text": [
            "Setting `pad_token_id` to `eos_token_id`:50256 for open-end generation.\n"
          ],
          "name": "stderr"
        },
        {
          "output_type": "stream",
          "text": [
            "Batch 3400 of 3650. Loss: 2.356797456741333. Time: 0:20:34\n",
            "Example ouput:  LDAnd let them say, \"He weeps,\"\n",
            "And be kind to them;\n",
            "And give us the \"He's gone\"\n",
            "And \"The Doctor\" and \"That's\n",
            "Forgotten.\"\n",
            "They must be \"He's gone.\"\n",
            "They must be \"Weeping\"--\n",
            "They must be \"He's gone\"--\n",
            "Forgotten.\n",
            "\n"
          ],
          "name": "stdout"
        },
        {
          "output_type": "stream",
          "text": [
            "Setting `pad_token_id` to `eos_token_id`:50256 for open-end generation.\n"
          ],
          "name": "stderr"
        },
        {
          "output_type": "stream",
          "text": [
            "Batch 3500 of 3650. Loss: 1.8082513809204102. Time: 0:21:11\n",
            "Example ouput:  ListenFor her joy and her love\n",
            "In the first, the last, the last\n",
            "She did not let the lover's feet\n",
            "Curl her into a garden bed,\n",
            "She went a little for an hour\n",
            "To find the garden bed.\n",
            "\n"
          ],
          "name": "stdout"
        },
        {
          "output_type": "stream",
          "text": [
            "Setting `pad_token_id` to `eos_token_id`:50256 for open-end generation.\n"
          ],
          "name": "stderr"
        },
        {
          "output_type": "stream",
          "text": [
            "Batch 3600 of 3650. Loss: 2.0490355491638184. Time: 0:21:47\n",
            "Example ouput:  dyThen we'll be merry, &c.  Thee,\n",
            "In every merry mood, of all the day\n",
            "May gladly share what merry thoughts we see;\n",
            "But we'll be most merry, &c.\n",
            "\n",
            "Average Training Loss: 2.315697497472371. Epoch time: 0:22:05\n",
            "\n",
            "Validation loss: 2.4330566936525804. Validation Time: 0:00:40\n",
            "\n",
            "------------------------------\n",
            "Beginning epoch 3 of 4\n"
          ],
          "name": "stdout"
        },
        {
          "output_type": "stream",
          "text": [
            "Setting `pad_token_id` to `eos_token_id`:50256 for open-end generation.\n"
          ],
          "name": "stderr"
        },
        {
          "output_type": "stream",
          "text": [
            "Batch 100 of 3650. Loss: 1.8765922784805298. Time: 0:00:36\n",
            "Example ouput:  DomesticThen the blessed Virgin rose with fervour,\n",
            "And in her arms she kissed him, and said,\n",
            "\"Come thou, and I will give thee the love\n",
            "He gave unto my father, and I will give\n",
            "To thee, for thou hast made him woman's care,\n",
            "And thou hast made him a worshiper to my Lord.\n",
            "\n"
          ],
          "name": "stdout"
        },
        {
          "output_type": "stream",
          "text": [
            "Setting `pad_token_id` to `eos_token_id`:50256 for open-end generation.\n"
          ],
          "name": "stderr"
        },
        {
          "output_type": "stream",
          "text": [
            "Batch 200 of 3650. Loss: 2.0163817405700684. Time: 0:01:12\n",
            "Example ouput:  beneficiariesAnd I have a right to love thee,\n",
            "For thou hast been the gardener of our pastimes;\n",
            "I wish the fairest flowers that be\n",
            "Were ever in the bloom that we planted.\n",
            "\n"
          ],
          "name": "stdout"
        },
        {
          "output_type": "stream",
          "text": [
            "Setting `pad_token_id` to `eos_token_id`:50256 for open-end generation.\n"
          ],
          "name": "stderr"
        },
        {
          "output_type": "stream",
          "text": [
            "Batch 300 of 3650. Loss: 1.816027045249939. Time: 0:01:48\n",
            "Example ouput:  TitleAnd I, too, in sleep of thy smiling,\n",
            "In hope that I might be safe again,\n",
            "And in dreams that may not yet be known,\n",
            "Still will dream of thee.\n",
            "\n"
          ],
          "name": "stdout"
        },
        {
          "output_type": "stream",
          "text": [
            "Setting `pad_token_id` to `eos_token_id`:50256 for open-end generation.\n"
          ],
          "name": "stderr"
        },
        {
          "output_type": "stream",
          "text": [
            "Batch 400 of 3650. Loss: 1.6828696727752686. Time: 0:02:24\n",
            "Example ouput:  μO, my sweet daughter,\n",
            "O, my child,\n",
            "I love you very dearly,\n",
            "O, my sweet daughter,\n",
            "The days are over.\n",
            "\n"
          ],
          "name": "stdout"
        },
        {
          "output_type": "stream",
          "text": [
            "Setting `pad_token_id` to `eos_token_id`:50256 for open-end generation.\n"
          ],
          "name": "stderr"
        },
        {
          "output_type": "stream",
          "text": [
            "Batch 500 of 3650. Loss: 2.161806106567383. Time: 0:03:00\n",
            "Example ouput:  sellingHush, baby, my pretty babie,\n",
            "For the luscious food is ready,\n",
            "There's a smile on your cheek and a smile on your eye;\n",
            "Then, if you come and take my baby,\n",
            "There's a smile on your cheeks and a smile on your brow,\n",
            "And a smile from your baby, I mean.\n",
            "\n"
          ],
          "name": "stdout"
        },
        {
          "output_type": "stream",
          "text": [
            "Setting `pad_token_id` to `eos_token_id`:50256 for open-end generation.\n"
          ],
          "name": "stderr"
        },
        {
          "output_type": "stream",
          "text": [
            "Batch 600 of 3650. Loss: 1.956859827041626. Time: 0:03:37\n",
            "Example ouput:  migrantBut I, in the morning of my life--\n",
            "Ah, my love!--I am not here,\n",
            "And I must go hence, away!\n",
            "But my love has a red,\n",
            "And a crown of red,\n",
            "And a little flower\n",
            "For his little May.\n",
            "\n"
          ],
          "name": "stdout"
        },
        {
          "output_type": "stream",
          "text": [
            "Setting `pad_token_id` to `eos_token_id`:50256 for open-end generation.\n"
          ],
          "name": "stderr"
        },
        {
          "output_type": "stream",
          "text": [
            "Batch 700 of 3650. Loss: 2.429691791534424. Time: 0:04:13\n",
            "Example ouput: ivelyNow that the world, all men and people wise\n",
            "Have walked the earth, have walked the earth,\n",
            "Their faith and worship shall not change\n",
            "When from the lips of man they speak.\n",
            "\n"
          ],
          "name": "stdout"
        },
        {
          "output_type": "stream",
          "text": [
            "Setting `pad_token_id` to `eos_token_id`:50256 for open-end generation.\n"
          ],
          "name": "stderr"
        },
        {
          "output_type": "stream",
          "text": [
            "Batch 800 of 3650. Loss: 2.016979694366455. Time: 0:04:49\n",
            "Example ouput:  orderAwhile they thought of him--that a boy--\n",
            "Or was there ever known to be\n",
            "And never forget, to see his face--\n",
            "The smile--the laugh--the tone--the grace--\n",
            "The love that grew his only pretence,\n",
            "That grew for a smile of him--\n",
            "His only pretence; that,--\n",
            "His only pretence, and his only pretence.\n",
            "\n"
          ],
          "name": "stdout"
        },
        {
          "output_type": "stream",
          "text": [
            "Setting `pad_token_id` to `eos_token_id`:50256 for open-end generation.\n"
          ],
          "name": "stderr"
        },
        {
          "output_type": "stream",
          "text": [
            "Batch 900 of 3650. Loss: 1.7361907958984375. Time: 0:05:26\n",
            "Example ouput:  VPNWe love the spring,\n",
            "It is always springing,\n",
            "It is always shining,\n",
            "And our hearts are full of gladness\n",
            "When the fresh air blows.\n",
            "\n"
          ],
          "name": "stdout"
        },
        {
          "output_type": "stream",
          "text": [
            "Setting `pad_token_id` to `eos_token_id`:50256 for open-end generation.\n"
          ],
          "name": "stderr"
        },
        {
          "output_type": "stream",
          "text": [
            "Batch 1000 of 3650. Loss: 2.5949387550354004. Time: 0:06:02\n",
            "Example ouput:  explanationWhat's this wonderful dream of love?\n",
            "It is a cloud that shadows all the hill,\n",
            "A cloud that trembles with night;--a breath that dies\n",
            "Through the white flame's cold window bars.\n",
            "\n"
          ],
          "name": "stdout"
        },
        {
          "output_type": "stream",
          "text": [
            "Setting `pad_token_id` to `eos_token_id`:50256 for open-end generation.\n"
          ],
          "name": "stderr"
        },
        {
          "output_type": "stream",
          "text": [
            "Batch 1100 of 3650. Loss: 2.002077579498291. Time: 0:06:38\n",
            "Example ouput:  BachWith laughter from the garden, and sweet\n",
            "Harmony and mirth from the gay court,\n",
            "On the other side the princes,\n",
            "Ventin and weeping of a man.\n",
            "\n"
          ],
          "name": "stdout"
        },
        {
          "output_type": "stream",
          "text": [
            "Setting `pad_token_id` to `eos_token_id`:50256 for open-end generation.\n"
          ],
          "name": "stderr"
        },
        {
          "output_type": "stream",
          "text": [
            "Batch 1200 of 3650. Loss: 1.3669023513793945. Time: 0:07:14\n",
            "Example ouput:  folderNo less, I feel as I gaze upon\n",
            "The lids of the silver-haired night--\n",
            "The dew that gleams on the marble walls,\n",
            "The beauty of the silent walls,\n",
            "And the long ago sunshine, soft and calm,\n",
            "The warm, the dreamy days and golden hours,\n",
            "My only dream.\n",
            "\n"
          ],
          "name": "stdout"
        },
        {
          "output_type": "stream",
          "text": [
            "Setting `pad_token_id` to `eos_token_id`:50256 for open-end generation.\n"
          ],
          "name": "stderr"
        },
        {
          "output_type": "stream",
          "text": [
            "Batch 1300 of 3650. Loss: 1.924104928970337. Time: 0:07:50\n",
            "Example ouput:  buildingNo hand was more powerful then to reach\n",
            "Than those bright orbs that on the tranquil earth\n",
            "Look out from the skies, and from their sphere\n",
            "Look out for joy.\n",
            "\n"
          ],
          "name": "stdout"
        },
        {
          "output_type": "stream",
          "text": [
            "Setting `pad_token_id` to `eos_token_id`:50256 for open-end generation.\n"
          ],
          "name": "stderr"
        },
        {
          "output_type": "stream",
          "text": [
            "Batch 1400 of 3650. Loss: 2.245917797088623. Time: 0:08:27\n",
            "Example ouput:  BabylonBut this is nothing. Thou art one\n",
            "With whom God loves and bears mankind\n",
            "On a day by a tranquil water well.\n",
            "\n"
          ],
          "name": "stdout"
        },
        {
          "output_type": "stream",
          "text": [
            "Setting `pad_token_id` to `eos_token_id`:50256 for open-end generation.\n"
          ],
          "name": "stderr"
        },
        {
          "output_type": "stream",
          "text": [
            "Batch 1500 of 3650. Loss: 2.1648144721984863. Time: 0:09:02\n",
            "Example ouput: perialTo love them, though we could not sever,\n",
            "Love would have us dissever:\n",
            "Nor do they wrong me when I love them,\n",
            "I love them with an equal love.\n",
            "\n"
          ],
          "name": "stdout"
        },
        {
          "output_type": "stream",
          "text": [
            "Setting `pad_token_id` to `eos_token_id`:50256 for open-end generation.\n"
          ],
          "name": "stderr"
        },
        {
          "output_type": "stream",
          "text": [
            "Batch 1600 of 3650. Loss: 2.0706825256347656. Time: 0:09:39\n",
            "Example ouput:  rentsI am at once proud and free,\n",
            "From all my follies I can throw\n",
            "I am now ill at ease--\n",
            "Alas for the proud and funereal!\n",
            "He had his share at fault and place;\n",
            "I am sorry for his malfortune,\n",
            "He has so much in common.\n",
            "\n"
          ],
          "name": "stdout"
        },
        {
          "output_type": "stream",
          "text": [
            "Setting `pad_token_id` to `eos_token_id`:50256 for open-end generation.\n"
          ],
          "name": "stderr"
        },
        {
          "output_type": "stream",
          "text": [
            "Batch 1700 of 3650. Loss: 1.8247654438018799. Time: 0:10:15\n",
            "Example ouput:  RegAnd he gave to her a loving kiss\n",
            "That she might gain him the heart's desire,\n",
            "And he gave her a loving gift.\n",
            "\n"
          ],
          "name": "stdout"
        },
        {
          "output_type": "stream",
          "text": [
            "Setting `pad_token_id` to `eos_token_id`:50256 for open-end generation.\n"
          ],
          "name": "stderr"
        },
        {
          "output_type": "stream",
          "text": [
            "Batch 1800 of 3650. Loss: 1.7840791940689087. Time: 0:10:51\n",
            "Example ouput: olasIt is the season of the heart,\n",
            "When hearts that are too kind to hold--\n",
            "The season of love and pain--\n",
            "The season of delight and pride--\n",
            "The season of the heart and the power\n",
            "When love and life are at their best!\n",
            "When the year of its dark and chill and low,\n",
            "The cold, pale autumn leaves decay,\n",
            "To the full and the chill, the autumn leaves fall,\n",
            "And the deep brown earth with flowers all overcast,\n",
            "Where the old year and the year are at rest?\n",
            "The season of the soul and the seasons of love and the union\n",
            "When she goes with Time, and the slow and night.\n",
            "\n"
          ],
          "name": "stdout"
        },
        {
          "output_type": "stream",
          "text": [
            "Setting `pad_token_id` to `eos_token_id`:50256 for open-end generation.\n"
          ],
          "name": "stderr"
        },
        {
          "output_type": "stream",
          "text": [
            "Batch 1900 of 3650. Loss: 1.6948435306549072. Time: 0:11:28\n",
            "Example ouput:  responsesBut thou--\n",
            "With these, in love's fond course,\n",
            "The flower and bud of joy,\n",
            "Scented with the sweet delight\n",
            "Of the sweet nymphs' silences;\n",
            "And, as she passes, she veils\n",
            "Her silken lashes, bare\n",
            "To a bed of silken gold,\n",
            "For the night and morning,\n",
            "Thro' the azure-grey,\n",
            "Whose pallid petals gleam\n",
            "In the soft moonlight.\n",
            "\n"
          ],
          "name": "stdout"
        },
        {
          "output_type": "stream",
          "text": [
            "Setting `pad_token_id` to `eos_token_id`:50256 for open-end generation.\n"
          ],
          "name": "stderr"
        },
        {
          "output_type": "stream",
          "text": [
            "Batch 2000 of 3650. Loss: 1.7549470663070679. Time: 0:12:05\n",
            "Example ouput:  attendanceHow I loved, how well I loved,\n",
            "How I praised what others praised,\n",
            "While at last I learned to weep,\n",
            "When I learned to weep,\n",
            "And at last, to wake,\n",
            "Told I was not a happy child.\n",
            "\n"
          ],
          "name": "stdout"
        },
        {
          "output_type": "stream",
          "text": [
            "Setting `pad_token_id` to `eos_token_id`:50256 for open-end generation.\n"
          ],
          "name": "stderr"
        },
        {
          "output_type": "stream",
          "text": [
            "Batch 2100 of 3650. Loss: 2.218062400817871. Time: 0:12:41\n",
            "Example ouput:  rigidIf, at last, I can the marriage of my life,\n",
            "I'd like to return to thee, and so much like thee,\n",
            "That thou wouldst not come with me, I hardly wish to stay.\"\n",
            "Then with a gentle answer, to the aged Vila cried:\n",
            "\"O mother, I swear it, that thou shalt find a willing wife,\n",
            "For such a wife shall know the counsels of the wise and the true.\n",
            "\n"
          ],
          "name": "stdout"
        },
        {
          "output_type": "stream",
          "text": [
            "Setting `pad_token_id` to `eos_token_id`:50256 for open-end generation.\n"
          ],
          "name": "stderr"
        },
        {
          "output_type": "stream",
          "text": [
            "Batch 2200 of 3650. Loss: 2.0584633350372314. Time: 0:13:18\n",
            "Example ouput: groIf now our love and hope are over,\n",
            "What must we hope to see, if we fear still?\n",
            "It may be hard to bear the thought\n",
            "In her absence to be so kind.\n",
            "\n"
          ],
          "name": "stdout"
        },
        {
          "output_type": "stream",
          "text": [
            "Setting `pad_token_id` to `eos_token_id`:50256 for open-end generation.\n"
          ],
          "name": "stderr"
        },
        {
          "output_type": "stream",
          "text": [
            "Batch 2300 of 3650. Loss: 2.328643560409546. Time: 0:13:54\n",
            "Example ouput:  GreA stately house on the roadside,\n",
            "With roof of laurel-trees all about,\n",
            "And all around with play and laughter,\n",
            "Was fitted to the beauty of the place,\n",
            "With hollyhocks crowned, and deer that frisk in the shade,\n",
            "And a quaint old-fashioned dwelling-place,\n",
            "With walls of curving-cadenced and with flowers,\n",
            "And quaint old-fashioned minstrelsy,\n",
            "In finest summer-time,\n",
            "With ruddy sun-flowers crown'd,\n",
            "And a nest in wood-tothered walls of gold,\n",
            "All clad in white with flowers.\n",
            "\n"
          ],
          "name": "stdout"
        },
        {
          "output_type": "stream",
          "text": [
            "Setting `pad_token_id` to `eos_token_id`:50256 for open-end generation.\n"
          ],
          "name": "stderr"
        },
        {
          "output_type": "stream",
          "text": [
            "Batch 2400 of 3650. Loss: 1.9679691791534424. Time: 0:14:31\n",
            "Example ouput: uraAh, what a beautiful sight!\n",
            "To see a child like this\n",
            "All light on a silver cloud,\n",
            "And feel that his very soul\n",
            "Shines like a dream!\n",
            "\"A baby's hands are white\n",
            "Like a flower's bed.\"\n",
            "Oh, beautiful! how white is my cheek\n",
            "And the curls on my cheek!\n",
            "And I, like an innocent boy,\n",
            "Can but feel the bliss\n",
            "That his very words express.\n",
            "\n"
          ],
          "name": "stdout"
        },
        {
          "output_type": "stream",
          "text": [
            "Setting `pad_token_id` to `eos_token_id`:50256 for open-end generation.\n"
          ],
          "name": "stderr"
        },
        {
          "output_type": "stream",
          "text": [
            "Batch 2500 of 3650. Loss: 2.1211156845092773. Time: 0:15:08\n",
            "Example ouput:  2020For who is a poor widowed fellow-man\n",
            "Whom Nature makes the ripen'd field with flowers?\n",
            "Who has her heart, a kindly friend;\n",
            "Who is not a poor widow or a son?\n",
            "The son of a fair and shining star\n",
            "Is best beloved when young.\n",
            "\n"
          ],
          "name": "stdout"
        },
        {
          "output_type": "stream",
          "text": [
            "Setting `pad_token_id` to `eos_token_id`:50256 for open-end generation.\n"
          ],
          "name": "stderr"
        },
        {
          "output_type": "stream",
          "text": [
            "Batch 2600 of 3650. Loss: 2.017667293548584. Time: 0:15:44\n",
            "Example ouput:  chargingBut you, my good son, are more than I,\n",
            "If you would share my happiness;\n",
            "I know the griefs you have known,\n",
            "And each of my own comes back again.\n",
            "\n"
          ],
          "name": "stdout"
        },
        {
          "output_type": "stream",
          "text": [
            "Setting `pad_token_id` to `eos_token_id`:50256 for open-end generation.\n"
          ],
          "name": "stderr"
        },
        {
          "output_type": "stream",
          "text": [
            "Batch 2700 of 3650. Loss: 2.0041894912719727. Time: 0:16:20\n",
            "Example ouput:  SarThis my love for thee did I win;\n",
            "Hearken to me!\n",
            "_But my love went on forever!_\n",
            "_Sugríva to his sea, &c._\n",
            "_Proud knight of Raghu, &c._\n",
            "_Sugríva to his land, &c._\n",
            "_O my love, brave Siegfried,\n",
            "To thy lord and me\n",
            "Where I lay,\n",
            "Sitting in my father's lap,\n",
            "Thy white neck bound.\n",
            "\n"
          ],
          "name": "stdout"
        },
        {
          "output_type": "stream",
          "text": [
            "Setting `pad_token_id` to `eos_token_id`:50256 for open-end generation.\n"
          ],
          "name": "stderr"
        },
        {
          "output_type": "stream",
          "text": [
            "Batch 2800 of 3650. Loss: 1.9981664419174194. Time: 0:16:57\n",
            "Example ouput:  JasHer heart to mine is warm,\n",
            "With love that never dies,\n",
            "That only love doth die.\n",
            "\n"
          ],
          "name": "stdout"
        },
        {
          "output_type": "stream",
          "text": [
            "Setting `pad_token_id` to `eos_token_id`:50256 for open-end generation.\n"
          ],
          "name": "stderr"
        },
        {
          "output_type": "stream",
          "text": [
            "Batch 2900 of 3650. Loss: 1.930802583694458. Time: 0:17:33\n",
            "Example ouput:  permit\"We have sent a special message\n",
            "To you that we remember you.\"\n",
            "\"In brief we will be brief,\" quoth he,\n",
            "\"But your memory is our pride.\n",
            "\n"
          ],
          "name": "stdout"
        },
        {
          "output_type": "stream",
          "text": [
            "Setting `pad_token_id` to `eos_token_id`:50256 for open-end generation.\n"
          ],
          "name": "stderr"
        },
        {
          "output_type": "stream",
          "text": [
            "Batch 3000 of 3650. Loss: 1.9168137311935425. Time: 0:18:09\n",
            "Example ouput:  AdministratorOh, happy were you when, after all,\n",
            "I came with laughter!\n",
            "In the air her footsteps gently went;\n",
            "But the silence of the forest's mournful throng,\n",
            "I could not hear her footsteps' music.\n",
            "\n"
          ],
          "name": "stdout"
        },
        {
          "output_type": "stream",
          "text": [
            "Setting `pad_token_id` to `eos_token_id`:50256 for open-end generation.\n"
          ],
          "name": "stderr"
        },
        {
          "output_type": "stream",
          "text": [
            "Batch 3100 of 3650. Loss: 1.8949295282363892. Time: 0:18:45\n",
            "Example ouput:  EVENTS\"Oh! what doth a child like me\n",
            "Give, child?\"\n",
            "\"A creature beautiful and fair\n",
            "Thro' such wondrous eyes as mine\n",
            "Do burn with affection's fire?\n",
            "Oh, what a doth she speak\n",
            "That she so well doth speak?\n",
            "In my breast I cannot stir,\n",
            "My soul cannot move.\n",
            "\n"
          ],
          "name": "stdout"
        },
        {
          "output_type": "stream",
          "text": [
            "Setting `pad_token_id` to `eos_token_id`:50256 for open-end generation.\n"
          ],
          "name": "stderr"
        },
        {
          "output_type": "stream",
          "text": [
            "Batch 3200 of 3650. Loss: 1.2581337690353394. Time: 0:19:21\n",
            "Example ouput:  MentalI love my love, dear, though it grow so small,\n",
            "I love it much, I love it even more,\n",
            "I love it little, and it grows more,\n",
            "So come, my love, to my house and me.\n",
            "\n"
          ],
          "name": "stdout"
        },
        {
          "output_type": "stream",
          "text": [
            "Setting `pad_token_id` to `eos_token_id`:50256 for open-end generation.\n"
          ],
          "name": "stderr"
        },
        {
          "output_type": "stream",
          "text": [
            "Batch 3300 of 3650. Loss: 1.4464491605758667. Time: 0:19:58\n",
            "Example ouput: ids'Sae blythe and jade, a ditty, an' singin',\n",
            "Seems meikle's to meikle's an' to love an' me:\n",
            "But, come down on yon tree that grows,\n",
            "Sae blythe and sangin' an' sangin',\n",
            "It's tree that has an' wan twa tree,\n",
            "An' where 'unto' ye're aye be eerie,\n",
            "It's tree with a cosnie lock o' twa.\n",
            "\n"
          ],
          "name": "stdout"
        },
        {
          "output_type": "stream",
          "text": [
            "Setting `pad_token_id` to `eos_token_id`:50256 for open-end generation.\n"
          ],
          "name": "stderr"
        },
        {
          "output_type": "stream",
          "text": [
            "Batch 3400 of 3650. Loss: 2.0424423217773438. Time: 0:20:35\n",
            "Example ouput: ceansAnd you, my childhood, love me well,\n",
            "For I know not where I came from;\n",
            "But my mother taught me underneath the tree,\n",
            "And I became a dove in her arms.\n",
            "\n"
          ],
          "name": "stdout"
        },
        {
          "output_type": "stream",
          "text": [
            "Setting `pad_token_id` to `eos_token_id`:50256 for open-end generation.\n"
          ],
          "name": "stderr"
        },
        {
          "output_type": "stream",
          "text": [
            "Batch 3500 of 3650. Loss: 2.095865488052368. Time: 0:21:11\n",
            "Example ouput:  geneticallyThen we'll feast in all sorts of moods,\n",
            "And our hearts, like peas in seasons of plenty,\n",
            "Will be bound with joy and rapture.\n",
            "\n"
          ],
          "name": "stdout"
        },
        {
          "output_type": "stream",
          "text": [
            "Setting `pad_token_id` to `eos_token_id`:50256 for open-end generation.\n"
          ],
          "name": "stderr"
        },
        {
          "output_type": "stream",
          "text": [
            "Batch 3600 of 3650. Loss: 2.3922784328460693. Time: 0:21:47\n",
            "Example ouput:  adviceAnd they told me they would be lords,\n",
            "And I must have them in my power\n",
            "To love them, to love them, to bless them.\n",
            "\n",
            "Average Training Loss: 1.9290645009850802. Epoch time: 0:22:05\n",
            "\n",
            "Validation loss: 2.436333257870134. Validation Time: 0:00:40\n",
            "\n",
            "------------------------------\n",
            "Beginning epoch 4 of 4\n"
          ],
          "name": "stdout"
        },
        {
          "output_type": "stream",
          "text": [
            "Setting `pad_token_id` to `eos_token_id`:50256 for open-end generation.\n"
          ],
          "name": "stderr"
        },
        {
          "output_type": "stream",
          "text": [
            "Batch 100 of 3650. Loss: 1.3781763315200806. Time: 0:00:36\n",
            "Example ouput:  incompleteIf all of heaven were harmony\n",
            "Our twofold harmony would here divide,\n",
            "And Heaven with Earth would here divide,\n",
            "And Heaven with Heaven would here divide.\n",
            "\n"
          ],
          "name": "stdout"
        },
        {
          "output_type": "stream",
          "text": [
            "Setting `pad_token_id` to `eos_token_id`:50256 for open-end generation.\n"
          ],
          "name": "stderr"
        },
        {
          "output_type": "stream",
          "text": [
            "Batch 200 of 3650. Loss: 1.5531052350997925. Time: 0:01:12\n",
            "Example ouput: commentBut when the light and dew\n",
            "Rose from the earth and fled\n",
            "From the world and all its cares,\n",
            "The world burst forth, and cried, \"He is mine!\"\n",
            "And, like some great angel,\n",
            "Thought the lonely shadows might not stand\n",
            "Beyond the heaven of Love.\n",
            "\n"
          ],
          "name": "stdout"
        },
        {
          "output_type": "stream",
          "text": [
            "Setting `pad_token_id` to `eos_token_id`:50256 for open-end generation.\n"
          ],
          "name": "stderr"
        },
        {
          "output_type": "stream",
          "text": [
            "Batch 300 of 3650. Loss: 2.0544891357421875. Time: 0:01:48\n",
            "Example ouput:  pilotThen let us come and sit together\n",
            "At the base of the furnace,\n",
            "And feast on the delicious flavor,\n",
            "And on thy bread like a monarch,\n",
            "On thy wine like a queen,\n",
            "On thy strawberries like the prairie,\n",
            "On thy bread like the pied grape,\n",
            "On thy bread like the pied civet,\n",
            "On thy bread like the king of Spain.\n",
            "\n"
          ],
          "name": "stdout"
        },
        {
          "output_type": "stream",
          "text": [
            "Setting `pad_token_id` to `eos_token_id`:50256 for open-end generation.\n"
          ],
          "name": "stderr"
        },
        {
          "output_type": "stream",
          "text": [
            "Batch 400 of 3650. Loss: 1.9667127132415771. Time: 0:02:25\n",
            "Example ouput: gers\"Ah, child,\" I said, \"if thy father be true\n",
            "And daughter be fair,\n",
            "'Twere better far, 'twas to be grave.\"\n",
            "Then spake the blacksmith,\n",
            "\"Why wilt thou speed away,\n",
            "And leave the house where thou didst sleep?\n",
            "The goldsmith took the two small rugs\n",
            "And bound them in their boxes so safe.\n",
            "\n"
          ],
          "name": "stdout"
        },
        {
          "output_type": "stream",
          "text": [
            "Setting `pad_token_id` to `eos_token_id`:50256 for open-end generation.\n"
          ],
          "name": "stderr"
        },
        {
          "output_type": "stream",
          "text": [
            "Batch 500 of 3650. Loss: 1.912706732749939. Time: 0:03:01\n",
            "Example ouput:  mutationYet, what could I do but follow thee,\n",
            "With eyes unimpassioned, and harp in tune\n",
            "Tuned to some glorious harmony,\n",
            "When music and desire, and smiles and tears\n",
            "Pass on, like a golden bell, through successive nights?\n",
            "The world-wearied ways of beauty, all undone,\n",
            "Lusty, cold, immortal, beautiful, and wise?\n",
            "The ways of beauty, all shrouded in silent dust,\n",
            "Dwell like a silent landscape undefiled!\n",
            "What should I do for love, all the ways I take of her,\n",
            "With all her eyes so kind and silent and so strangely fair?\n",
            "That I need to see?\n",
            "As the ways of infinity and awe,\n",
            "Of mystery, and wrong,\n",
            "That only desire and ruth,\n",
            "Which, as none can destroy?\n",
            "What if not her eyes as well?\n",
            "One night?\n",
            "So sweet delight her mind with love can tame desire?\n",
            "In ecstasy\n",
            "\n"
          ],
          "name": "stdout"
        },
        {
          "output_type": "stream",
          "text": [
            "Setting `pad_token_id` to `eos_token_id`:50256 for open-end generation.\n"
          ],
          "name": "stderr"
        },
        {
          "output_type": "stream",
          "text": [
            "Batch 600 of 3650. Loss: 1.3039218187332153. Time: 0:03:39\n",
            "Example ouput:  DriverI am all for the brave\n",
            "That love Truth's self to Truth's self;\n",
            "For the false to both\n",
            "That Love makes self more true;\n",
            "For the true to both\n",
            "To the heart that loveth Love's self.\n",
            "\n"
          ],
          "name": "stdout"
        },
        {
          "output_type": "stream",
          "text": [
            "Setting `pad_token_id` to `eos_token_id`:50256 for open-end generation.\n"
          ],
          "name": "stderr"
        },
        {
          "output_type": "stream",
          "text": [
            "Batch 700 of 3650. Loss: 1.470533013343811. Time: 0:04:15\n",
            "Example ouput: itiOh, how shall we wish thy grace to be\n",
            "So lightly borne?\n",
            "And shall I tear away thy joy,\n",
            "And be satisfied?\n",
            "Oh! would I were here where that scene was cast,\n",
            "In some western cloud its shadows flamed,\n",
            "To gaze on thy radiant face again;\n",
            "And see within the shade how lightly\n",
            "The shadows of my dreamland rest.\n",
            "\n"
          ],
          "name": "stdout"
        },
        {
          "output_type": "stream",
          "text": [
            "Setting `pad_token_id` to `eos_token_id`:50256 for open-end generation.\n"
          ],
          "name": "stderr"
        },
        {
          "output_type": "stream",
          "text": [
            "Batch 800 of 3650. Loss: 1.5912375450134277. Time: 0:04:52\n",
            "Example ouput: fffThe sun upon the larkspur,\n",
            "The blossom on the willows,\n",
            "All love and passion in that hour,\n",
            "When through the twilight's stilly bars\n",
            "The shadows make a wild, sweet moan.\n",
            "\n"
          ],
          "name": "stdout"
        },
        {
          "output_type": "stream",
          "text": [
            "Setting `pad_token_id` to `eos_token_id`:50256 for open-end generation.\n"
          ],
          "name": "stderr"
        },
        {
          "output_type": "stream",
          "text": [
            "Batch 900 of 3650. Loss: 1.4201898574829102. Time: 0:05:28\n",
            "Example ouput: rimination\"Hence and thy Son, since the world is done,\n",
            "Since this bright day was begun,\n",
            "Since thou didst create it for my hungry,\n",
            "Since now the hunger that used to feed\n",
            "My hungry soul did cease,\n",
            "Yea, all things now put out for thee,\n",
            "All things new that were before thee.\n",
            "\n"
          ],
          "name": "stdout"
        },
        {
          "output_type": "stream",
          "text": [
            "Setting `pad_token_id` to `eos_token_id`:50256 for open-end generation.\n"
          ],
          "name": "stderr"
        },
        {
          "output_type": "stream",
          "text": [
            "Batch 1000 of 3650. Loss: 1.72723388671875. Time: 0:06:04\n",
            "Example ouput: aqueAnd thus in all their joyous thinking\n",
            "Of thy dear home in the distant woods\n",
            "They still look on thee and list sooth\n",
            "The murmuring of thy name, their mirth and mirth\n",
            "For very here in this happy land\n",
            "They dwell.\n",
            "\n"
          ],
          "name": "stdout"
        },
        {
          "output_type": "stream",
          "text": [
            "Setting `pad_token_id` to `eos_token_id`:50256 for open-end generation.\n"
          ],
          "name": "stderr"
        },
        {
          "output_type": "stream",
          "text": [
            "Batch 1100 of 3650. Loss: 1.4602673053741455. Time: 0:06:41\n",
            "Example ouput: leeBut she was calm; her eyes were bright;\n",
            "She was fair, and very fair;\n",
            "She was young, and very fair;\n",
            "And there were many a happy day\n",
            "Heigho! says Rowland Laddie.\n",
            "\n"
          ],
          "name": "stdout"
        },
        {
          "output_type": "stream",
          "text": [
            "Setting `pad_token_id` to `eos_token_id`:50256 for open-end generation.\n"
          ],
          "name": "stderr"
        },
        {
          "output_type": "stream",
          "text": [
            "Batch 1200 of 3650. Loss: 1.1268075704574585. Time: 0:07:17\n",
            "Example ouput:  AlzheimerIn the first part, he touched upon the strings;\n",
            "Subside the chords, and the notes of joy;\n",
            "In the second part, he touched upon the lyre;\n",
            "In the third place he touched upon the chords,\n",
            "And he produced a second, which sounded\n",
            "As one might hear a flute in the wilds.\n",
            "\n"
          ],
          "name": "stdout"
        },
        {
          "output_type": "stream",
          "text": [
            "Setting `pad_token_id` to `eos_token_id`:50256 for open-end generation.\n"
          ],
          "name": "stderr"
        },
        {
          "output_type": "stream",
          "text": [
            "Batch 1300 of 3650. Loss: 1.1676151752471924. Time: 0:07:53\n",
            "Example ouput:  checkingWith joy the king grew vain,\n",
            "And Viśvámitra,(704) seized\n",
            "The precious gem, by Śankar’s hand.\n",
            "\n"
          ],
          "name": "stdout"
        },
        {
          "output_type": "stream",
          "text": [
            "Setting `pad_token_id` to `eos_token_id`:50256 for open-end generation.\n"
          ],
          "name": "stderr"
        },
        {
          "output_type": "stream",
          "text": [
            "Batch 1400 of 3650. Loss: 1.624976396560669. Time: 0:08:29\n",
            "Example ouput: nesium\"She who first in Beauty smiled\n",
            "A child of mien divinely fair,\n",
            "A god in heavenly charms arrayed,\n",
            "With a kind pair of brothers decked\n",
            "With gems of either sex or mind.\n",
            "\n"
          ],
          "name": "stdout"
        },
        {
          "output_type": "stream",
          "text": [
            "Setting `pad_token_id` to `eos_token_id`:50256 for open-end generation.\n"
          ],
          "name": "stderr"
        },
        {
          "output_type": "stream",
          "text": [
            "Batch 1500 of 3650. Loss: 1.3184260129928589. Time: 0:09:05\n",
            "Example ouput:  1957Yet, since that happy hour, when, through the door\n",
            "Of darkness and of day, I stood and watched\n",
            "With breathless face and slow slow-moving voice\n",
            "Above the garden, till, somehow, I forgot\n",
            "That all things seemed to move me through life and death\n",
            "To that little voice in which I seemed to see\n",
            "Its light fall faint and faint as a ghost,\n",
            "And its voice murmur faint, and its laughters loud\n",
            "From the white lilies that murmur on my dark hair.\n",
            "\n"
          ],
          "name": "stdout"
        },
        {
          "output_type": "stream",
          "text": [
            "Setting `pad_token_id` to `eos_token_id`:50256 for open-end generation.\n"
          ],
          "name": "stderr"
        },
        {
          "output_type": "stream",
          "text": [
            "Batch 1600 of 3650. Loss: 1.3422069549560547. Time: 0:09:42\n",
            "Example ouput: manshipThere was never a voice but went \"Oh, great-man,\n",
            "When I was young, I reckoned myself a boy,\n",
            "And when I grow old I hear a voice say 'This is\n",
            "The way you always were,' and I always knew it.'\n",
            "He smiled and laughed till the world was glad,\n",
            "He dreamed and sang the whole night long--\n",
            "His heart was young and he had dreamed it long.\n",
            "\n"
          ],
          "name": "stdout"
        },
        {
          "output_type": "stream",
          "text": [
            "Setting `pad_token_id` to `eos_token_id`:50256 for open-end generation.\n"
          ],
          "name": "stderr"
        },
        {
          "output_type": "stream",
          "text": [
            "Batch 1700 of 3650. Loss: 1.5089694261550903. Time: 0:10:19\n",
            "Example ouput:  understandWith love aloft he would have gladly sped,\n",
            "Meseem'd his master that the king was nigh;\n",
            "And yet the king was not so bold, for oft\n",
            "The king was not so happy as she was fair.\n",
            "\n"
          ],
          "name": "stdout"
        },
        {
          "output_type": "stream",
          "text": [
            "Setting `pad_token_id` to `eos_token_id`:50256 for open-end generation.\n"
          ],
          "name": "stderr"
        },
        {
          "output_type": "stream",
          "text": [
            "Batch 1800 of 3650. Loss: 1.793182373046875. Time: 0:10:55\n",
            "Example ouput:  passionShe's smiling, she's lithe and kind,\n",
            "There's nae need to fear her smile;\n",
            "Oh, 't is my duty, too, to die,\n",
            "To smile at a woman's frown,\n",
            "To love and to cherish so.\n",
            "\n"
          ],
          "name": "stdout"
        },
        {
          "output_type": "stream",
          "text": [
            "Setting `pad_token_id` to `eos_token_id`:50256 for open-end generation.\n"
          ],
          "name": "stderr"
        },
        {
          "output_type": "stream",
          "text": [
            "Batch 1900 of 3650. Loss: 1.619794249534607. Time: 0:11:31\n",
            "Example ouput:  curved\"But now I am left alone\n",
            "With only this house and garden,\n",
            "And only this house, which, I say,\n",
            "Is the home of my Beloved.\"\n",
            "Then, dropping her laughing eyes,\n",
            "She rose and ran away.\n",
            "\n"
          ],
          "name": "stdout"
        },
        {
          "output_type": "stream",
          "text": [
            "Setting `pad_token_id` to `eos_token_id`:50256 for open-end generation.\n"
          ],
          "name": "stderr"
        },
        {
          "output_type": "stream",
          "text": [
            "Batch 2000 of 3650. Loss: 1.8898783922195435. Time: 0:12:07\n",
            "Example ouput:  AnI am sure no star is shining yet--\n",
            "One bright season has left me wandering,\n",
            "One bright season of delight is o'er;\n",
            "And there's hope for my bonnie, bonnie Bell--\n",
            "I feel as sure as when my true love\n",
            "Had beaconed o'er the sea.\n",
            "\n"
          ],
          "name": "stdout"
        },
        {
          "output_type": "stream",
          "text": [
            "Setting `pad_token_id` to `eos_token_id`:50256 for open-end generation.\n"
          ],
          "name": "stderr"
        },
        {
          "output_type": "stream",
          "text": [
            "Batch 2100 of 3650. Loss: 2.064946413040161. Time: 0:12:44\n",
            "Example ouput: otti\"My soul was so happy it blessed him,\n",
            "When with my body he was taken,\n",
            "I could not see him, I could not hear him,\n",
            "But I told him all the things I had told him.\n",
            "\n"
          ],
          "name": "stdout"
        },
        {
          "output_type": "stream",
          "text": [
            "Setting `pad_token_id` to `eos_token_id`:50256 for open-end generation.\n"
          ],
          "name": "stderr"
        },
        {
          "output_type": "stream",
          "text": [
            "Batch 2200 of 3650. Loss: 1.2298331260681152. Time: 0:13:20\n",
            "Example ouput:  intakeI love my little lass, she is so bonny,\n",
            "I will keep her for my love, when I am old;\n",
            "And I will keep my cosie when the dew is on her tongue,\n",
            "And the apple trees are gay when they are old.\n",
            "\n"
          ],
          "name": "stdout"
        },
        {
          "output_type": "stream",
          "text": [
            "Setting `pad_token_id` to `eos_token_id`:50256 for open-end generation.\n"
          ],
          "name": "stderr"
        },
        {
          "output_type": "stream",
          "text": [
            "Batch 2300 of 3650. Loss: 1.6617062091827393. Time: 0:13:56\n",
            "Example ouput:  TsBut the flowers are faded, withered and withered,\n",
            "I am no more, I will not be no more,\n",
            "Grown faint and silent where the rain is done,\n",
            "The flowers are faded, withered and withered,\n",
            "Dew rose and dust will lie in the river,\n",
            "The wind will lie in the river,\n",
            "And the sky will lie in the sea,\n",
            "And the sun will be ever always here.\n",
            "\n"
          ],
          "name": "stdout"
        },
        {
          "output_type": "stream",
          "text": [
            "Setting `pad_token_id` to `eos_token_id`:50256 for open-end generation.\n"
          ],
          "name": "stderr"
        },
        {
          "output_type": "stream",
          "text": [
            "Batch 2400 of 3650. Loss: 1.1405988931655884. Time: 0:14:33\n",
            "Example ouput:  MainIt was the wind that carried thee\n",
            "Through the green and gold air,\n",
            "Waving a smile as bright as May;\n",
            "For all the summer's dull and drear\n",
            "Was in thy heart, love,\n",
            "Lonely, for love, alone.\n",
            "\n"
          ],
          "name": "stdout"
        },
        {
          "output_type": "stream",
          "text": [
            "Setting `pad_token_id` to `eos_token_id`:50256 for open-end generation.\n"
          ],
          "name": "stderr"
        },
        {
          "output_type": "stream",
          "text": [
            "Batch 2500 of 3650. Loss: 1.7168594598770142. Time: 0:15:09\n",
            "Example ouput:  temIf you but call the name a single,\n",
            "Oh come! Oh come!\n",
            "If you but call the whole thing into being,\n",
            "How should it be call'd away from this,\n",
            "And live with its memories, see!\n",
            "If you but call the whole thing into being,\n",
            "Oh come!\n",
            "To think of the first kiss, dear mother.\n",
            "\n"
          ],
          "name": "stdout"
        },
        {
          "output_type": "stream",
          "text": [
            "Setting `pad_token_id` to `eos_token_id`:50256 for open-end generation.\n"
          ],
          "name": "stderr"
        },
        {
          "output_type": "stream",
          "text": [
            "Batch 2600 of 3650. Loss: 1.4326329231262207. Time: 0:15:45\n",
            "Example ouput:  ClickI love the sunshine of the shower,\n",
            "And the song of birds, and the soft sigh of flowers;\n",
            "I love the breeze that bloweth soft,\n",
            "And all that's beautiful about it all.\n",
            "\n"
          ],
          "name": "stdout"
        },
        {
          "output_type": "stream",
          "text": [
            "Setting `pad_token_id` to `eos_token_id`:50256 for open-end generation.\n"
          ],
          "name": "stderr"
        },
        {
          "output_type": "stream",
          "text": [
            "Batch 2700 of 3650. Loss: 1.7861987352371216. Time: 0:16:21\n",
            "Example ouput:  XV_Vidyāpati says: O Prince,--_\n",
            "_I love your song so well._\n",
            "_Sakhī:_       O Prince, dear Lord, how many thoughts I give!\n",
            "_Rādhā:_                       Rādhā, Lord of the race,\n",
            "With her is the adored face of your Lord,\n",
            "She whom I love with many prayers.\n",
            "\n"
          ],
          "name": "stdout"
        },
        {
          "output_type": "stream",
          "text": [
            "Setting `pad_token_id` to `eos_token_id`:50256 for open-end generation.\n"
          ],
          "name": "stderr"
        },
        {
          "output_type": "stream",
          "text": [
            "Batch 2800 of 3650. Loss: 1.4225412607192993. Time: 0:16:58\n",
            "Example ouput:  dormBut, _and naiads_, like fine boys,\n",
            "Know nae courtly tricks;\n",
            "And there they lie, a merry band,\n",
            "We'll weave them up wi' coats of red;\n",
            "We'll weave them up wi' coats of red,\n",
            "We'll weave them up wi' coats of red;\n",
            "And when the day is done,\n",
            "We'll weave our new-furrow fair,\n",
            "And the chaplet come by.\n",
            "\n"
          ],
          "name": "stdout"
        },
        {
          "output_type": "stream",
          "text": [
            "Setting `pad_token_id` to `eos_token_id`:50256 for open-end generation.\n"
          ],
          "name": "stderr"
        },
        {
          "output_type": "stream",
          "text": [
            "Batch 2900 of 3650. Loss: 1.3834255933761597. Time: 0:17:35\n",
            "Example ouput:  upstreamThe _Sapphopper_ is the most beautiful name; there is a great deal\n",
            "unto all other people. It is so much better suited to the\n",
            "unconsciousness of man, that it has even gone on unnoticed on the\n",
            "appeal, and to the very essence, there is always a peril which suits\n",
            "\"Sapphopper\" is the most beautiful name on a long ago, as\n",
            "said Mr. T. CLARKman.\n",
            "\n"
          ],
          "name": "stdout"
        },
        {
          "output_type": "stream",
          "text": [
            "Setting `pad_token_id` to `eos_token_id`:50256 for open-end generation.\n"
          ],
          "name": "stderr"
        },
        {
          "output_type": "stream",
          "text": [
            "Batch 3000 of 3650. Loss: 1.4378081560134888. Time: 0:18:12\n",
            "Example ouput: الI am a child and you must turn away your head;\n",
            "My heart's the cradle of my pain; I am growing old\n",
            "With the joy you had before; I am growing old,\n",
            "And my heart is full of its proud fervor, which must\n",
            "Renew its all-consuming ache,\n",
            "Till it reach the little, narrow, stone-dead bed,\n",
            "Where my soul has been growing old;\n",
            "And I lie dead, and you must lie still, and I\n",
            "Beneath an amorous, radiant shadow, being still\n",
            "The ghost of a dead love, that I have.\n",
            "\n"
          ],
          "name": "stdout"
        },
        {
          "output_type": "stream",
          "text": [
            "Setting `pad_token_id` to `eos_token_id`:50256 for open-end generation.\n"
          ],
          "name": "stderr"
        },
        {
          "output_type": "stream",
          "text": [
            "Batch 3100 of 3650. Loss: 1.9192363023757935. Time: 0:18:49\n",
            "Example ouput: ariaHearts are a-ripple and weak,\n",
            "Who would not even lift their heads,\n",
            "Whooping to lift their heads to God,\n",
            "Seeds are ugly to look at,\n",
            "But God sends them safely out,\n",
            "From God to give them good speed.\n",
            "\n"
          ],
          "name": "stdout"
        },
        {
          "output_type": "stream",
          "text": [
            "Setting `pad_token_id` to `eos_token_id`:50256 for open-end generation.\n"
          ],
          "name": "stderr"
        },
        {
          "output_type": "stream",
          "text": [
            "Batch 3200 of 3650. Loss: 1.762688398361206. Time: 0:19:25\n",
            "Example ouput: PGThou lovest in thy cradle fair,\n",
            "Thou with thy fairest eye,\n",
            "Thou with thy love beside the child.\n",
            "\n"
          ],
          "name": "stdout"
        },
        {
          "output_type": "stream",
          "text": [
            "Setting `pad_token_id` to `eos_token_id`:50256 for open-end generation.\n"
          ],
          "name": "stderr"
        },
        {
          "output_type": "stream",
          "text": [
            "Batch 3300 of 3650. Loss: 1.8074002265930176. Time: 0:20:01\n",
            "Example ouput: IllTo look on beauty in a book,\n",
            "To read how beautiful she is,\n",
            "In the look that he puts forth her hand,\n",
            "Or on a smiling cheek and cheek.\n",
            "\n"
          ],
          "name": "stdout"
        },
        {
          "output_type": "stream",
          "text": [
            "Setting `pad_token_id` to `eos_token_id`:50256 for open-end generation.\n"
          ],
          "name": "stderr"
        },
        {
          "output_type": "stream",
          "text": [
            "Batch 3400 of 3650. Loss: 1.462128758430481. Time: 0:20:37\n",
            "Example ouput:  automatedYou and I, and we, and all,\n",
            "Will laugh or frown or sing;\n",
            "Will laugh or cry:\n",
            "Will wear or break,\n",
            "Or warm or cool.\n",
            "\n"
          ],
          "name": "stdout"
        },
        {
          "output_type": "stream",
          "text": [
            "Setting `pad_token_id` to `eos_token_id`:50256 for open-end generation.\n"
          ],
          "name": "stderr"
        },
        {
          "output_type": "stream",
          "text": [
            "Batch 3500 of 3650. Loss: 1.6327173709869385. Time: 0:21:13\n",
            "Example ouput:  hiringAll the leaves that in the garden bloom,\n",
            "All the plants and flowers in a line,\n",
            "Come to me, oh! and moan, oh! and moan!\n",
            "The golden lily that in the garden bloom,\n",
            "The ruby that in the roses bloom,\n",
            "The orchards in the meadow bloom,\n",
            "The orchards in the orchard bower,\n",
            "The orchards in the orchard bow,\n",
            "Come to me, oh! and moan!\n",
            "I have no bread to give, oh!\n",
            "Nor have I bread to take.\n",
            "\n"
          ],
          "name": "stdout"
        },
        {
          "output_type": "stream",
          "text": [
            "Setting `pad_token_id` to `eos_token_id`:50256 for open-end generation.\n"
          ],
          "name": "stderr"
        },
        {
          "output_type": "stream",
          "text": [
            "Batch 3600 of 3650. Loss: 1.6358041763305664. Time: 0:21:50\n",
            "Example ouput:  tweeting\"Thou tell'st me thou art most wise,\n",
            "Thou hast in thy ways many ways;\n",
            "Many dangers hast thou had'st in life,\n",
            "Many dangers hast thou had'st in love;\n",
            "But if such be thy ways, tell me.\n",
            "\n",
            "Average Training Loss: 1.5705426442459838. Epoch time: 0:22:08\n",
            "\n",
            "Validation loss: 2.5581215766850365. Validation Time: 0:00:40\n",
            "\n",
            "------------------------------\n",
            "Total training took 1:30:58\n"
          ],
          "name": "stdout"
        }
      ]
    },
    {
      "cell_type": "markdown",
      "metadata": {
        "id": "TSg35S_vIqhb"
      },
      "source": [
        "### Visualizations"
      ]
    },
    {
      "cell_type": "code",
      "metadata": {
        "colab": {
          "base_uri": "https://localhost:8080/",
          "height": 427
        },
        "id": "IojJkmTpIirm",
        "outputId": "eb7fe10b-cd1e-4392-9a3e-59f0b333510a"
      },
      "source": [
        "pd.set_option('precision', 2)\n",
        "df_stats = pd.DataFrame(data=training_stats)\n",
        "df_stats = df_stats.set_index('epoch')\n",
        "\n",
        "# Use plot styling from seaborn.\n",
        "sns.set(style='darkgrid')\n",
        "\n",
        "# Increase the plot size and font size.\n",
        "sns.set(font_scale=1.5)\n",
        "plt.rcParams[\"figure.figsize\"] = (12,6)\n",
        "\n",
        "# Plot the learning curve.\n",
        "plt.plot(df_stats['Training Loss'], 'b-o', label=\"Training\")\n",
        "plt.plot(df_stats['Valid. Loss'], 'g-o', label=\"Validation\")\n",
        "\n",
        "# Label the plot.\n",
        "plt.title(\"Training & Validation Loss\")\n",
        "plt.xlabel(\"Epoch\")\n",
        "plt.ylabel(\"Loss\")\n",
        "plt.legend()\n",
        "plt.xticks([1, 2, 3, 4])\n",
        "\n",
        "plt.show()"
      ],
      "execution_count": null,
      "outputs": [
        {
          "output_type": "display_data",
          "data": {
            "image/png": "[encoded data removed]",
            "text/plain": [
              "<Figure size 864x432 with 1 Axes>"
            ]
          },
          "metadata": {
            "tags": []
          }
        }
      ]
    },
    {
      "cell_type": "markdown",
      "metadata": {
        "id": "xAbymnZCBez7"
      },
      "source": [
        "### Generate Poems"
      ]
    },
    {
      "cell_type": "code",
      "metadata": {
        "id": "kCNkoz3yBgpt",
        "colab": {
          "base_uri": "https://localhost:8080/"
        },
        "outputId": "45da7876-79dd-45d4-8c8a-9f438e29130f"
      },
      "source": [
        "model.eval()\n",
        "\n",
        "prompt = \"<|startoftext|>\"\n",
        "\n",
        "generated = torch.tensor(tokenizer.encode(prompt)).unsqueeze(0)\n",
        "generated = generated.to(device)\n",
        "\n",
        "sample_outputs = model.generate(\n",
        "                                generated,\n",
        "                                do_sample=True,\n",
        "                                top_k=50,\n",
        "                                max_length = 300,\n",
        "                                top_p=0.95,\n",
        "                                num_return_sequences=3\n",
        "                                )\n",
        "\n",
        "for i, sample_output in enumerate(sample_outputs):\n",
        "  print(\"{}: {}\\n\\n\".format(i, tokenizer.decode(sample_output, skip_special_tokens=True)))"
      ],
      "execution_count": null,
      "outputs": [
        {
          "output_type": "stream",
          "text": [
            "Setting `pad_token_id` to `eos_token_id`:50256 for open-end generation.\n"
          ],
          "name": "stderr"
        },
        {
          "output_type": "stream",
          "text": [
            "0: From these we know that the good will be done,\n",
            "The children be lifted up into the good will,\n",
            "And the household wealth increase, and the works of the church\n",
            "Shall prosper more or less.\"\n",
            "He ended, and therewith a song most sweet\n",
            "Rang through the ears of all the house,\n",
            "And in the centre of the hall he heard,\n",
            "An old man with a guitar in hand.\n",
            "\n",
            "\n",
            "1: For you he has gone to the trap-room,\n",
            "And snatched my kisses while I was a baby,\n",
            "And led me into a sweet and silent measure\n",
            "And told me what to do.  And then he came to say,\n",
            "\"I must go now, for I love you better than life,\n",
            "You are a beautiful boy, and you are strong.\"\n",
            "And she was not there--she only leaned her back,\n",
            "And laughed and jogged my poor soul with her dolls,\n",
            "Till, in some deep disgust, she turned her head and looked away.\n",
            "\n",
            "\n",
            "2: Heigho! it's the Squire's Moon,\n",
            "Fair as the berries of Northland,\n",
            "On the islands are gleaming;\n",
            "O why should we gaze upon those\n",
            "Whose beauty has a far greater sway?\n",
            "Why should we gaze upon those\n",
            "Whose beauty is like the brightness\n",
            "Of the Star that never sets!\n",
            "Heigho! it's the beauty of the Squire,\n",
            "Fair as the berries of Northland,\n",
            "On the islands are gleaming;\n",
            "It shines upon the peaks and lowlands,\n",
            "Over the mountains,\n",
            "On the lea and watery and water;\n",
            "On the lake and sea.\n",
            "\n",
            "\n"
          ],
          "name": "stdout"
        }
      ]
    },
    {
      "cell_type": "markdown",
      "metadata": {
        "id": "MeWf2GI4J6Ij"
      },
      "source": [
        "### Saving and Loading Finetuned Model"
      ]
    },
    {
      "cell_type": "code",
      "metadata": {
        "id": "CRIyf1pAJ-QV",
        "colab": {
          "base_uri": "https://localhost:8080/"
        },
        "outputId": "57e3d11f-f1ea-42ed-b04a-b68782dba5bd"
      },
      "source": [
        "output_dir = \"/content/drive/My Drive/AutoCompose/models/joy2\"\n",
        "\n",
        "# Save generated poems\n",
        "# sample_outputs = model.generate(\n",
        "#                                 generated,\n",
        "#                                 do_sample=True,\n",
        "#                                 top_k=50,\n",
        "#                                 max_length = 300,\n",
        "#                                 top_p=0.95,\n",
        "#                                 num_return_sequences=25\n",
        "#                                 )\n",
        "\n",
        "# with open(os.path.join(output_dir, 'generated_poems.txt'), \"w\") as outfile:\n",
        "#   for i, sample_output in enumerate(sample_outputs):\n",
        "#     outfile.write(tokenizer.decode(sample_output, skip_special_tokens=True)+\"\\n\\n\")\n",
        "\n",
        "# Save a trained model, configuration and tokenizer using `save_pretrained()`.\n",
        "# They can then be reloaded using `from_pretrained()`\n",
        "model_to_save = model.module if hasattr(model, 'module') else model\n",
        "model_to_save.save_pretrained(output_dir)\n",
        "tokenizer.save_pretrained(output_dir)\n",
        "\n",
        "# Good practice: save your training arguments together with the trained model\n",
        "# torch.save(training_stats, os.path.join(output_dir, 'training_args.bin'))"
      ],
      "execution_count": null,
      "outputs": [
        {
          "output_type": "execute_result",
          "data": {
            "text/plain": [
              "('/content/drive/My Drive/AutoCompose/models/joy2/tokenizer_config.json',\n",
              " '/content/drive/My Drive/AutoCompose/models/joy2/special_tokens_map.json',\n",
              " '/content/drive/My Drive/AutoCompose/models/joy2/vocab.json',\n",
              " '/content/drive/My Drive/AutoCompose/models/joy2/merges.txt',\n",
              " '/content/drive/My Drive/AutoCompose/models/joy2/added_tokens.json')"
            ]
          },
          "metadata": {
            "tags": []
          },
          "execution_count": 23
        }
      ]
    },
    {
      "cell_type": "code",
      "metadata": {
        "colab": {
          "base_uri": "https://localhost:8080/"
        },
        "id": "ytaoWLZhJklS",
        "outputId": "943c6d85-0886-4c0e-f04d-6dad72386c14"
      },
      "source": [
        "# Save generated poems\n",
        "sample_outputs = model.generate(\n",
        "                                generated,\n",
        "                                do_sample=True,\n",
        "                                top_k=50,\n",
        "                                max_length = 300,\n",
        "                                top_p=0.95,\n",
        "                                num_return_sequences=25\n",
        "                                )\n",
        "\n",
        "with open(os.path.join(output_dir, 'generated_poems.txt'), \"w\") as outfile:\n",
        "  for i, sample_output in enumerate(sample_outputs):\n",
        "    outfile.write(tokenizer.decode(sample_output, skip_special_tokens=True)+\"\\n\\n\")"
      ],
      "execution_count": null,
      "outputs": [
        {
          "output_type": "stream",
          "text": [
            "Setting `pad_token_id` to `eos_token_id`:50256 for open-end generation.\n"
          ],
          "name": "stderr"
        }
      ]
    },
    {
      "cell_type": "code",
      "metadata": {
        "colab": {
          "base_uri": "https://localhost:8080/"
        },
        "id": "-fYC0L4FLc2Z",
        "outputId": "88794633-e82e-4b2a-e39c-f19c37b2d454"
      },
      "source": [
        "# Loading saved model\n",
        "model_dir = \"/content/drive/My Drive/AutoCompose/models/neutral\"\n",
        "\n",
        "model = GPT2LMHeadModel.from_pretrained(model_dir)\n",
        "tokenizer = GPT2Tokenizer.from_pretrained(model_dir)\n",
        "\n",
        "# model = GPT2LMHeadModel.from_pretrained(\"prajwalcr/poetry-joy_gpt2\")\n",
        "# tokenizer = GPT2Tokenizer.from_pretrained(\"prajwalcr/poetry-joy_gpt2\")\n",
        "model.to(device)"
      ],
      "execution_count": null,
      "outputs": [
        {
          "output_type": "execute_result",
          "data": {
            "text/plain": [
              "GPT2LMHeadModel(\n",
              "  (transformer): GPT2Model(\n",
              "    (wte): Embedding(50259, 768)\n",
              "    (wpe): Embedding(1024, 768)\n",
              "    (drop): Dropout(p=0.1, inplace=False)\n",
              "    (h): ModuleList(\n",
              "      (0): GPT2Block(\n",
              "        (ln_1): LayerNorm((768,), eps=1e-05, elementwise_affine=True)\n",
              "        (attn): GPT2Attention(\n",
              "          (c_attn): Conv1D()\n",
              "          (c_proj): Conv1D()\n",
              "          (attn_dropout): Dropout(p=0.1, inplace=False)\n",
              "          (resid_dropout): Dropout(p=0.1, inplace=False)\n",
              "        )\n",
              "        (ln_2): LayerNorm((768,), eps=1e-05, elementwise_affine=True)\n",
              "        (mlp): GPT2MLP(\n",
              "          (c_fc): Conv1D()\n",
              "          (c_proj): Conv1D()\n",
              "          (dropout): Dropout(p=0.1, inplace=False)\n",
              "        )\n",
              "      )\n",
              "      (1): GPT2Block(\n",
              "        (ln_1): LayerNorm((768,), eps=1e-05, elementwise_affine=True)\n",
              "        (attn): GPT2Attention(\n",
              "          (c_attn): Conv1D()\n",
              "          (c_proj): Conv1D()\n",
              "          (attn_dropout): Dropout(p=0.1, inplace=False)\n",
              "          (resid_dropout): Dropout(p=0.1, inplace=False)\n",
              "        )\n",
              "        (ln_2): LayerNorm((768,), eps=1e-05, elementwise_affine=True)\n",
              "        (mlp): GPT2MLP(\n",
              "          (c_fc): Conv1D()\n",
              "          (c_proj): Conv1D()\n",
              "          (dropout): Dropout(p=0.1, inplace=False)\n",
              "        )\n",
              "      )\n",
              "      (2): GPT2Block(\n",
              "        (ln_1): LayerNorm((768,), eps=1e-05, elementwise_affine=True)\n",
              "        (attn): GPT2Attention(\n",
              "          (c_attn): Conv1D()\n",
              "          (c_proj): Conv1D()\n",
              "          (attn_dropout): Dropout(p=0.1, inplace=False)\n",
              "          (resid_dropout): Dropout(p=0.1, inplace=False)\n",
              "        )\n",
              "        (ln_2): LayerNorm((768,), eps=1e-05, elementwise_affine=True)\n",
              "        (mlp): GPT2MLP(\n",
              "          (c_fc): Conv1D()\n",
              "          (c_proj): Conv1D()\n",
              "          (dropout): Dropout(p=0.1, inplace=False)\n",
              "        )\n",
              "      )\n",
              "      (3): GPT2Block(\n",
              "        (ln_1): LayerNorm((768,), eps=1e-05, elementwise_affine=True)\n",
              "        (attn): GPT2Attention(\n",
              "          (c_attn): Conv1D()\n",
              "          (c_proj): Conv1D()\n",
              "          (attn_dropout): Dropout(p=0.1, inplace=False)\n",
              "          (resid_dropout): Dropout(p=0.1, inplace=False)\n",
              "        )\n",
              "        (ln_2): LayerNorm((768,), eps=1e-05, elementwise_affine=True)\n",
              "        (mlp): GPT2MLP(\n",
              "          (c_fc): Conv1D()\n",
              "          (c_proj): Conv1D()\n",
              "          (dropout): Dropout(p=0.1, inplace=False)\n",
              "        )\n",
              "      )\n",
              "      (4): GPT2Block(\n",
              "        (ln_1): LayerNorm((768,), eps=1e-05, elementwise_affine=True)\n",
              "        (attn): GPT2Attention(\n",
              "          (c_attn): Conv1D()\n",
              "          (c_proj): Conv1D()\n",
              "          (attn_dropout): Dropout(p=0.1, inplace=False)\n",
              "          (resid_dropout): Dropout(p=0.1, inplace=False)\n",
              "        )\n",
              "        (ln_2): LayerNorm((768,), eps=1e-05, elementwise_affine=True)\n",
              "        (mlp): GPT2MLP(\n",
              "          (c_fc): Conv1D()\n",
              "          (c_proj): Conv1D()\n",
              "          (dropout): Dropout(p=0.1, inplace=False)\n",
              "        )\n",
              "      )\n",
              "      (5): GPT2Block(\n",
              "        (ln_1): LayerNorm((768,), eps=1e-05, elementwise_affine=True)\n",
              "        (attn): GPT2Attention(\n",
              "          (c_attn): Conv1D()\n",
              "          (c_proj): Conv1D()\n",
              "          (attn_dropout): Dropout(p=0.1, inplace=False)\n",
              "          (resid_dropout): Dropout(p=0.1, inplace=False)\n",
              "        )\n",
              "        (ln_2): LayerNorm((768,), eps=1e-05, elementwise_affine=True)\n",
              "        (mlp): GPT2MLP(\n",
              "          (c_fc): Conv1D()\n",
              "          (c_proj): Conv1D()\n",
              "          (dropout): Dropout(p=0.1, inplace=False)\n",
              "        )\n",
              "      )\n",
              "      (6): GPT2Block(\n",
              "        (ln_1): LayerNorm((768,), eps=1e-05, elementwise_affine=True)\n",
              "        (attn): GPT2Attention(\n",
              "          (c_attn): Conv1D()\n",
              "          (c_proj): Conv1D()\n",
              "          (attn_dropout): Dropout(p=0.1, inplace=False)\n",
              "          (resid_dropout): Dropout(p=0.1, inplace=False)\n",
              "        )\n",
              "        (ln_2): LayerNorm((768,), eps=1e-05, elementwise_affine=True)\n",
              "        (mlp): GPT2MLP(\n",
              "          (c_fc): Conv1D()\n",
              "          (c_proj): Conv1D()\n",
              "          (dropout): Dropout(p=0.1, inplace=False)\n",
              "        )\n",
              "      )\n",
              "      (7): GPT2Block(\n",
              "        (ln_1): LayerNorm((768,), eps=1e-05, elementwise_affine=True)\n",
              "        (attn): GPT2Attention(\n",
              "          (c_attn): Conv1D()\n",
              "          (c_proj): Conv1D()\n",
              "          (attn_dropout): Dropout(p=0.1, inplace=False)\n",
              "          (resid_dropout): Dropout(p=0.1, inplace=False)\n",
              "        )\n",
              "        (ln_2): LayerNorm((768,), eps=1e-05, elementwise_affine=True)\n",
              "        (mlp): GPT2MLP(\n",
              "          (c_fc): Conv1D()\n",
              "          (c_proj): Conv1D()\n",
              "          (dropout): Dropout(p=0.1, inplace=False)\n",
              "        )\n",
              "      )\n",
              "      (8): GPT2Block(\n",
              "        (ln_1): LayerNorm((768,), eps=1e-05, elementwise_affine=True)\n",
              "        (attn): GPT2Attention(\n",
              "          (c_attn): Conv1D()\n",
              "          (c_proj): Conv1D()\n",
              "          (attn_dropout): Dropout(p=0.1, inplace=False)\n",
              "          (resid_dropout): Dropout(p=0.1, inplace=False)\n",
              "        )\n",
              "        (ln_2): LayerNorm((768,), eps=1e-05, elementwise_affine=True)\n",
              "        (mlp): GPT2MLP(\n",
              "          (c_fc): Conv1D()\n",
              "          (c_proj): Conv1D()\n",
              "          (dropout): Dropout(p=0.1, inplace=False)\n",
              "        )\n",
              "      )\n",
              "      (9): GPT2Block(\n",
              "        (ln_1): LayerNorm((768,), eps=1e-05, elementwise_affine=True)\n",
              "        (attn): GPT2Attention(\n",
              "          (c_attn): Conv1D()\n",
              "          (c_proj): Conv1D()\n",
              "          (attn_dropout): Dropout(p=0.1, inplace=False)\n",
              "          (resid_dropout): Dropout(p=0.1, inplace=False)\n",
              "        )\n",
              "        (ln_2): LayerNorm((768,), eps=1e-05, elementwise_affine=True)\n",
              "        (mlp): GPT2MLP(\n",
              "          (c_fc): Conv1D()\n",
              "          (c_proj): Conv1D()\n",
              "          (dropout): Dropout(p=0.1, inplace=False)\n",
              "        )\n",
              "      )\n",
              "      (10): GPT2Block(\n",
              "        (ln_1): LayerNorm((768,), eps=1e-05, elementwise_affine=True)\n",
              "        (attn): GPT2Attention(\n",
              "          (c_attn): Conv1D()\n",
              "          (c_proj): Conv1D()\n",
              "          (attn_dropout): Dropout(p=0.1, inplace=False)\n",
              "          (resid_dropout): Dropout(p=0.1, inplace=False)\n",
              "        )\n",
              "        (ln_2): LayerNorm((768,), eps=1e-05, elementwise_affine=True)\n",
              "        (mlp): GPT2MLP(\n",
              "          (c_fc): Conv1D()\n",
              "          (c_proj): Conv1D()\n",
              "          (dropout): Dropout(p=0.1, inplace=False)\n",
              "        )\n",
              "      )\n",
              "      (11): GPT2Block(\n",
              "        (ln_1): LayerNorm((768,), eps=1e-05, elementwise_affine=True)\n",
              "        (attn): GPT2Attention(\n",
              "          (c_attn): Conv1D()\n",
              "          (c_proj): Conv1D()\n",
              "          (attn_dropout): Dropout(p=0.1, inplace=False)\n",
              "          (resid_dropout): Dropout(p=0.1, inplace=False)\n",
              "        )\n",
              "        (ln_2): LayerNorm((768,), eps=1e-05, elementwise_affine=True)\n",
              "        (mlp): GPT2MLP(\n",
              "          (c_fc): Conv1D()\n",
              "          (c_proj): Conv1D()\n",
              "          (dropout): Dropout(p=0.1, inplace=False)\n",
              "        )\n",
              "      )\n",
              "    )\n",
              "    (ln_f): LayerNorm((768,), eps=1e-05, elementwise_affine=True)\n",
              "  )\n",
              "  (lm_head): Linear(in_features=768, out_features=50259, bias=False)\n",
              ")"
            ]
          },
          "metadata": {
            "tags": []
          },
          "execution_count": 14
        }
      ]
    },
    {
      "cell_type": "code",
      "metadata": {
        "id": "RFFdvRrPaXpe"
      },
      "source": [],
      "execution_count": null,
      "outputs": []
    }
  ]
}